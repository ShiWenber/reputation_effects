{
 "cells": [
  {
   "cell_type": "code",
   "execution_count": null,
   "metadata": {},
   "outputs": [],
   "source": [
    "# !find ./log/* -type f -not -name \"stepNum*\" -exec rm -f {} \\;\n",
    "# clean the json format log and it's corresponding csv file"
   ]
  },
  {
   "cell_type": "code",
   "execution_count": null,
   "metadata": {},
   "outputs": [],
   "source": [
    "import pandas\n",
    "import matplotlib.pyplot as plt\n",
    "import json\n",
    "\n",
    "# Read the data\n",
    "data = pandas.read_csv('./norm/norm10.csv', header=None)\n",
    "data"
   ]
  },
  {
   "cell_type": "code",
   "execution_count": null,
   "metadata": {},
   "outputs": [],
   "source": [
    "class Log():\n",
    "    def __init__(self, json_log_path):\n",
    "        self.json_log_path = json_log_path\n",
    "        self.param = json.load(open(self.json_log_path, 'r'))\n",
    "        self.param_names = list(self.param.keys())\n",
    "    def __getitem__(self, key):\n",
    "        assert key in self.param.keys(), \"key not in param\"\n",
    "        return self.param[key]\n",
    "    \n",
    "    def get_data(self,nrows=None):\n",
    "        if nrows is None:\n",
    "            return pandas.read_csv(self.param[\"data\"])\n",
    "        else:\n",
    "            return pandas.read_csv(self.param[\"data\"], nrows=nrows)\n",
    "    \n",
    "    def __str__(self) -> str:\n",
    "        return f\"Log({self.json_log_path})\"\n",
    "\n",
    "# log1 = Log(\"./log/20231221223430_1c31d0eb-0f82-4be8-824d-2af22816be25.json\")\n",
    "# print(log1.param_names, log1[\"normId\"])\n",
    "# log1[\"data\"]\n",
    "# log1.get_data()"
   ]
  },
  {
   "cell_type": "code",
   "execution_count": null,
   "metadata": {},
   "outputs": [],
   "source": [
    "import pandas\n",
    "import os\n",
    "\n",
    "NROWS = 100000\n",
    "logs = list()\n",
    "for root, dirs, files in os.walk(\"./log/\"):\n",
    "    for file in files:\n",
    "        if file.endswith(\".json\"):\n",
    "            logs.append(Log(os.path.join(root, file))) \n",
    "            print(os.path.join(root, file))\n",
    "print(logs)\n",
    "\n",
    "# 对logs按照norm的大小排序\n",
    "logs = sorted(logs, key=lambda log:log[\"normId\"])\n",
    "\n",
    "# 限制读取行数为 100000 行\n",
    "data = logs[0].get_data(NROWS)\n",
    "data"
   ]
  },
  {
   "cell_type": "code",
   "execution_count": null,
   "metadata": {},
   "outputs": [],
   "source": [
    "# 第一列为横轴，第二列为纵轴画曲线，label为列名\n",
    "# 设置cmap\n",
    "colors = ['red', 'blue', 'green', 'yellow', 'black', 'purple', 'pink', 'orange', 'gray', 'brown', 'cyan', 'magenta',\n",
    "          'olive', 'lime', 'teal', 'navy']\n",
    "plt.figure(figsize=(20, 6))\n",
    "for i in range(1, 17):\n",
    "    plt.plot(data.iloc[:100, 0], data.iloc[:100, i], label=data.columns.values[i], color=colors[i - 1])\n",
    "plt.legend(loc='upper center', bbox_to_anchor=(0.5, 1.30), ncol=4, fancybox=True, shadow=True)\n",
    "# plt.savefig('./norm10-c-ur.png', dpi=600)"
   ]
  },
  {
   "cell_type": "code",
   "execution_count": null,
   "metadata": {},
   "outputs": [],
   "source": [
    "end = data.shape[0]\n",
    "\n",
    "\n",
    "\n",
    "# sort logs by normId\n",
    "logs = sorted(logs, key=lambda log:log[\"normId\"])\n",
    "print(\"logs_num:\", len(logs))\n",
    "filtered_logs = list()\n",
    "for log in logs:\n",
    "    filtered_logs.append(log)\n",
    "print(\"filtered_logs_num:\", len(filtered_logs))\n",
    "\n",
    "    # 遍历 data_paths\n",
    "for log in filtered_logs:\n",
    "    # 读取数据\n",
    "    data = log.get_data(NROWS)\n",
    "    # 第一列为横轴，第二列为纵轴画曲线，label为列名\n",
    "    # 设置cmap\n",
    "    colors = ['red', 'blue', 'green', 'yellow', 'black', 'purple', 'pink', 'orange', 'gray', 'brown', 'cyan', 'magenta',\n",
    "              'olive', 'lime', 'teal', 'navy']\n",
    "    plt.figure(figsize=(20, 6))\n",
    "    for i in range(1, 17):\n",
    "        plt.plot(data.iloc[:end, 0], data.iloc[:end, i], label=data.columns.values[i], color=colors[i - 1])\n",
    "    plt.legend(loc='upper center', bbox_to_anchor=(0.5, 1.30), ncol=4, fancybox=True, shadow=True)\n",
    "    plt.title(\"normId: \" + str(log[\"normId\"]))\n",
    "    # plt.savefig('./norm10-c-ur.png', dpi=600)"
   ]
  },
  {
   "cell_type": "code",
   "execution_count": null,
   "metadata": {},
   "outputs": [],
   "source": [
    "for log in filtered_logs:\n",
    "    # 读取数据\n",
    "    data = log.get_data(NROWS)\n",
    "    # 第一列为横轴，第二列为纵轴画曲线，label为列名\n",
    "    # 设置cmap\n",
    "    colors = ['red', 'blue', 'green', 'yellow', 'black', 'purple', 'pink', 'orange', 'gray', 'brown', 'cyan', 'magenta',\n",
    "              'olive', 'lime', 'teal', 'navy']\n",
    "    # 设置两个子图，每个大小为 10 * 3\n",
    "    fig, axes = plt.subplots(1, 3, figsize=(30, 5))\n",
    "    fig.suptitle(\"normId: \" + str(log[\"normId\"]))\n",
    "    fig.subplots_adjust(top=0.8)\n",
    "    for i in range(17, 20):\n",
    "        index = i - 17\n",
    "        axes[index].set_title(data.columns.values[i])\n",
    "        axes[index].set_xlabel(\"episode\")\n",
    "        axes[index].set_ylabel(data.columns.values[i])\n",
    "        axes[index].plot(data.iloc[:end, 0], data.iloc[:end, i], label=data.columns.values[i], color=colors[index - 1])\n",
    "    # fig.legend(loc='upper center', bbox_to_anchor=(0.5, 1.30), ncol=4, fancybox=True, shadow=True)\n",
    "    # plt.savefig('./norm10-c-ur.png', dpi=600)"
   ]
  }
 ],
 "metadata": {
  "kernelspec": {
   "display_name": "base",
   "language": "python",
   "name": "python3"
  },
  "language_info": {
   "codemirror_mode": {
    "name": "ipython",
    "version": 3
   },
   "file_extension": ".py",
   "mimetype": "text/x-python",
   "name": "python",
   "nbconvert_exporter": "python",
   "pygments_lexer": "ipython3",
   "version": "3.8.10"
  },
  "orig_nbformat": 4
 },
 "nbformat": 4,
 "nbformat_minor": 2
}
