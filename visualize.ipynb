{
 "cells": [
  {
   "cell_type": "code",
   "execution_count": null,
   "metadata": {},
   "outputs": [],
   "source": [
    "import pandas\n",
    "import matplotlib.pyplot as plt\n",
    "\n",
    "# Read the data\n",
    "data = pandas.read_csv('./norm/norm10.csv', header=None)\n",
    "data"
   ]
  },
  {
   "cell_type": "code",
   "execution_count": null,
   "metadata": {},
   "outputs": [],
   "source": [
    "import pandas\n",
    "import os\n",
    "\n",
    "norm2data_paths = dict()\n",
    "for root, dirs, files in os.walk(\"./log/\"):\n",
    "    norm = root.split(\"/\")[-1]\n",
    "    for file in files:\n",
    "        # if file.endswith(\".csv\") and file.find(r'norm10_') != -1 and file.find(r'_p0-1.0') != -1 :\n",
    "        # if file.endswith(\".csv\") and file.find(r'norm10_') != -1 and file.find(r'_p0-') != -1 and file.find(r'population-400') != -1:\n",
    "        # if file.endswith(\".csv\") and file.find(r'norm10_') != -1 and file.find(r'_p0-0.9') != -1 and file.find(r'population-400') != -1:\n",
    "        # if file.endswith(\".csv\") and file.find(r'norm10_') != -1 and file.find(r'_p0-0.5') != -1 :\n",
    "            if norm2data_paths.get(norm) is None:\n",
    "                norm2data_paths[norm] = []\n",
    "                norm2data_paths[norm].append(os.path.join(root, file))\n",
    "            else:\n",
    "                norm2data_paths[norm].append(os.path.join(root, file))\n",
    "            print(os.path.join(root, file))\n",
    "print(norm2data_paths)\n",
    "\n",
    "# 对norm2data_paths按照key的大小排序\n",
    "norm2data_paths = sorted(norm2data_paths.items(), key=lambda d:d[0])\n",
    "# 排序完成后再转化为dict\n",
    "norm2data_paths = dict(norm2data_paths)\n",
    "print(norm2data_paths)\n",
    "\n",
    "\n",
    "\n",
    "data = pandas.read_csv(norm2data_paths['norm10'][0])\n",
    "data"
   ]
  },
  {
   "cell_type": "code",
   "execution_count": null,
   "metadata": {},
   "outputs": [],
   "source": [
    "# 第一列为横轴，第二列为纵轴画曲线，label为列名\n",
    "# 设置cmap\n",
    "colors = ['red', 'blue', 'green', 'yellow', 'black', 'purple', 'pink', 'orange', 'gray', 'brown', 'cyan', 'magenta',\n",
    "          'olive', 'lime', 'teal', 'navy']\n",
    "plt.figure(figsize=(20, 6))\n",
    "for i in range(1, 17):\n",
    "    plt.plot(data.iloc[:100, 0], data.iloc[:100, i], label=data.columns.values[i], color=colors[i - 1])\n",
    "plt.legend(loc='upper center', bbox_to_anchor=(0.5, 1.30), ncol=4, fancybox=True, shadow=True)\n",
    "# plt.savefig('./norm10-c-ur.png', dpi=600)"
   ]
  },
  {
   "cell_type": "code",
   "execution_count": null,
   "metadata": {},
   "outputs": [],
   "source": [
    "\n",
    "# 遍历 norm2data_paths\n",
    "for norm, data_paths in norm2data_paths.items():\n",
    "    # 遍历 data_paths\n",
    "    for data_path in data_paths:\n",
    "        # 读取数据\n",
    "        data = pandas.read_csv(data_path)\n",
    "        # 第一列为横轴，第二列为纵轴画曲线，label为列名\n",
    "        # 设置cmap\n",
    "        colors = ['red', 'blue', 'green', 'yellow', 'black', 'purple', 'pink', 'orange', 'gray', 'brown', 'cyan', 'magenta',\n",
    "                  'olive', 'lime', 'teal', 'navy']\n",
    "        plt.figure(figsize=(20, 6))\n",
    "        for i in range(1, 17):\n",
    "            plt.plot(data.iloc[:, 0], data.iloc[:, i], label=data.columns.values[i], color=colors[i - 1])\n",
    "        plt.legend(loc='upper center', bbox_to_anchor=(0.5, 1.30), ncol=4, fancybox=True, shadow=True)\n",
    "        plt.title(norm + ' ' + data_path.split('/')[-1])\n",
    "        # plt.savefig('./norm10-c-ur.png', dpi=600)"
   ]
  },
  {
   "cell_type": "code",
   "execution_count": null,
   "metadata": {},
   "outputs": [],
   "source": [
    "# 遍历 norm2data_paths\n",
    "for norm, data_paths in norm2data_paths.items():\n",
    "    # 遍历 data_paths\n",
    "    for data_path in data_paths:\n",
    "        # 读取数据\n",
    "        data = pandas.read_csv(data_path)\n",
    "        # 第一列为横轴，第二列为纵轴画曲线，label为列名\n",
    "        # 设置cmap\n",
    "        colors = ['red', 'blue', 'green', 'yellow', 'black', 'purple', 'pink', 'orange', 'gray', 'brown', 'cyan', 'magenta',\n",
    "                  'olive', 'lime', 'teal', 'navy']\n",
    "        plt.figure(figsize=(20, 6))\n",
    "        color_index = 0\n",
    "        for i in range(17, 21):\n",
    "            plt.plot(data.iloc[:, 0], data.iloc[:, i], label=data.columns.values[i], color=colors[color_index])\n",
    "            color_index += 1\n",
    "        plt.legend(loc='upper center', bbox_to_anchor=(0.5, 1.30), ncol=4, fancybox=True, shadow=True)\n",
    "        plt.title(norm + ' ' + data_path.split('/')[-1])\n",
    "        # plt.savefig('./norm10-c-ur.png', dpi=600)"
   ]
  },
  {
   "cell_type": "code",
   "execution_count": null,
   "metadata": {},
   "outputs": [],
   "source": [
    "# 遍历 norm2data_paths\n",
    "for norm, data_paths in norm2data_paths.items():\n",
    "    # 遍历 data_paths\n",
    "    for data_path in data_paths:\n",
    "        # 读取数据\n",
    "        data = pandas.read_csv(data_path)\n",
    "        # 第一列为横轴，第二列为纵轴画曲线，label为列名\n",
    "        # 设置cmap\n",
    "        colors = ['red', 'blue', 'green', 'yellow', 'black', 'purple', 'pink', 'orange', 'gray', 'brown', 'cyan', 'magenta',\n",
    "                  'olive', 'lime', 'teal', 'navy']\n",
    "        plt.figure(figsize=(20, 6))\n",
    "        color_index = 0\n",
    "        for i in range(21, 25):\n",
    "            plt.plot(data.iloc[:, 0], data.iloc[:, i], label=data.columns.values[i], color=colors[color_index])\n",
    "            color_index += 1\n",
    "        plt.legend(loc='upper center', bbox_to_anchor=(0.5, 1.30), ncol=4, fancybox=True, shadow=True)\n",
    "        plt.title(norm + ' ' + data_path.split('/')[-1])\n",
    "        # plt.savefig('./norm10-c-ur.png', dpi=600)"
   ]
  }
 ],
 "metadata": {
  "kernelspec": {
   "display_name": "base",
   "language": "python",
   "name": "python3"
  },
  "language_info": {
   "codemirror_mode": {
    "name": "ipython",
    "version": 3
   },
   "file_extension": ".py",
   "mimetype": "text/x-python",
   "name": "python",
   "nbconvert_exporter": "python",
   "pygments_lexer": "ipython3",
   "version": "3.11.0"
  },
  "orig_nbformat": 4
 },
 "nbformat": 4,
 "nbformat_minor": 2
}
