{
 "cells": [
  {
   "cell_type": "code",
   "execution_count": null,
   "metadata": {},
   "outputs": [],
   "source": [
    "import matplotlib.pyplot as plt  \n",
    "import numpy as np  \n",
    "  \n",
    "# 假设我们有一些x, y和z数据  \n",
    "x = np.linspace(0, 10, 100)  \n",
    "y = np.linspace(0, 10, 100)  \n",
    "  \n",
    "# 我们将x和y变成2D网格  \n",
    "X, Y = np.meshgrid(x, y)  \n",
    "  \n",
    "# 现在我们有一些z值，它们依赖于X和Y  \n",
    "Z = np.sin(np.sqrt(X**2 + Y**2))  \n",
    "  \n",
    "# 我们可以用imshow来绘制这个图像  \n",
    "plt.imshow(Z, extent=(np.amin(x), np.amax(x), np.amin(y), np.amax(y)), origin='lower', aspect='auto', cmap='gray')  \n",
    "  \n",
    "# 我们添加色彩条以表示z值  \n",
    "plt.colorbar()  \n",
    "  \n",
    "plt.show()"
   ]
  }
 ],
 "metadata": {
  "kernelspec": {
   "display_name": "cling",
   "language": "python",
   "name": "python3"
  },
  "language_info": {
   "codemirror_mode": {
    "name": "ipython",
    "version": 3
   },
   "file_extension": ".py",
   "mimetype": "text/x-python",
   "name": "python",
   "nbconvert_exporter": "python",
   "pygments_lexer": "ipython3",
   "version": "3.11.0"
  }
 },
 "nbformat": 4,
 "nbformat_minor": 2
}
