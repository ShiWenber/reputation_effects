{
 "cells": [
  {
   "cell_type": "markdown",
   "metadata": {},
   "source": [
    "# The automatic derivation of the formula under different social norms"
   ]
  },
  {
   "cell_type": "markdown",
   "metadata": {},
   "source": [
    "## 1. Reward Matrix\n",
    "\n",
    "在捐赠者博弈中，设$do$ 可能以$b$ 为代价捐赠，对手获得收益$c$，也可以不捐赠，则代价为$0$，对手收益为$0$。$re$ 可能以 $\\beta$ 为代价回赠，对手获得收益$\\gamma$，也可以不回赠，则代价为$0$，对手收益为$0$。\n",
    "\n",
    "In the donor game, suppose $do$ may donate at a cost of $b$, and the opponent receives a profit of $c$, or it may not donate, then the cost is $0$, and the opponent's profit is $0$. $re$ may reward at a cost of $d$, and the opponent receives a profit of $e$, or it may not reward, then the cost is $0$, and the opponent's profit is $0$.\n",
    "\n",
    "reward矩阵表示一次博弈中捐赠者的动作 $action^{do}$ 和接收者的动作 $action^{re}$ 所确定的双方收益 $\\mathbf{R} = \\begin{pmatrix} R^{do}_0 & R^{re}_0 \\\\ R^{do}_1 & R^{re}_1 \\end{pmatrix} \\in \\mathbb{R}^{2 \\times 2} $，即 $f(action^{do}, action^{re}) = \\mathbf{R}$.\n",
    "\n",
    "A reward matrix represents the rewards of both parties determined by the actions $action^{do}$ of the donor and the actions $action^{re}$ of the recipient in a game $\\mathbf{R} = \\begin{pmatrix} R^{do}_0 & R^{re}_0 \\\\ R^{do}_1 & R^{re}_1 \\end{pmatrix} \\in \\mathbb{R}^{2 \\times 2} $, that is, $f(action^{do}, action^{re}) = \\mathbf{R}$.\n",
    "\n",
    "由博弈过程可知，$R^i_0 \\equiv R^i_1$，便可将reward 矩阵表示的 $f$ 简化为 $f(action^{do}, action^{re}) = (R^{do}, R^{re})$，在以下表格中用二元组表示，元组中的第一个元素表示 $do$ 的收益，第二个元素表示 $re$ 的收益。\n",
    "\n",
    "From the game process, $R^i_0 \\equiv R^i_1$, so the $f$ represented by the reward matrix can be simplified to $f(action^{do}, action^{re}) = (R^{do}, R^{re})$, which is represented by a binary tuple in the following table, The first element in the tuple represents the profit of $do$, and the second element represents the profit of $re$.\n",
    "\n",
    "The reward matrix is\n",
    "\n",
    "| $do$ action / $re$ action | C | D |\n",
    "| --- | --- | --- |\n",
    "|C | $\\beta - c, b - \\gamma $ | $-c, b$ |\n",
    "|D | $\\beta, -\\gamma$ | $0, 0$ |"
   ]
  },
  {
   "cell_type": "code",
   "execution_count": 232,
   "metadata": {},
   "outputs": [],
   "source": [
    "import sympy\n",
    "\n",
    "# because we need to use muparser lib in C++ to parse the expression，but the muparser lib doesn't support the latex expression\n",
    "# public symbols\n",
    "p_ = sympy.Symbol(r\"\\overline{p}\")\n",
    "p = sympy.Symbol(r\"p\")\n",
    "p_v = 1 - p\n",
    "N = sympy.Symbol(r\"N\")\n",
    "c = sympy.Symbol(r\"c\")\n",
    "b = sympy.Symbol(r\"b\")\n",
    "beta = sympy.Symbol(r\"beta\")\n",
    "gamma = sympy.Symbol(r\"gamma\")\n",
    "lamda = sympy.Symbol(r\"lamda\")\n",
    "\n",
    "# initial state distribution\n",
    "P0 = sympy.Matrix([[p_v, p]])"
   ]
  },
  {
   "cell_type": "code",
   "execution_count": 233,
   "metadata": {},
   "outputs": [
    {
     "data": {
      "image/png": "[encoded data removed]",
      "text/latex": [
       "$\\displaystyle \\left( \\left[\\begin{matrix}\\beta - c & - c\\\\\\beta & 0\\end{matrix}\\right], \\  \\left[\\begin{matrix}b - \\gamma & b\\\\- \\gamma & 0\\end{matrix}\\right], \\  \\left( \\beta - c, \\  b - \\gamma\\right), \\  \\left( - c, \\  b\\right), \\  \\left( \\beta, \\  - \\gamma\\right), \\  \\left( 0, \\  0\\right), \\  - c\\right)$"
      ],
      "text/plain": [
       "⎛⎡β - c  -c⎤  ⎡b - γ  b⎤                                              ⎞\n",
       "⎜⎢         ⎥, ⎢        ⎥, (β - c, b - γ), (-c, b), (β, -γ), (0, 0), -c⎟\n",
       "⎝⎣  β    0 ⎦  ⎣ -γ    0⎦                                              ⎠"
      ]
     },
     "execution_count": 233,
     "metadata": {},
     "output_type": "execute_result"
    }
   ],
   "source": [
    "from typing import Literal\n",
    "\n",
    "class Reward:\n",
    "    \"\"\"\n",
    "        output the symbol reward matrix or the symbol expression of the element in the reward matrix\n",
    "\n",
    "        init: \n",
    "            reward = Reward()\n",
    "\n",
    "        example:\n",
    "            case1: reward['do'], reward['re'] ... , return symbol matrix\n",
    "            case2: reward['C', 'C'], reward['C', 'D'], reward['D', 'C'], reward['D', 'D'] ... , return binary tuple of symbol expression\n",
    "            case3: reward['C', 'D', 'do'] ... , return symbol expression\n",
    "    \"\"\"\n",
    "    def __init__(self) -> None:\n",
    "        self.reward = list()\n",
    "        self.reward.append(sympy.Matrix(\n",
    "            [[beta - c, -c],\n",
    "                [beta, 0]]))\n",
    "        self.reward.append(sympy.Matrix(\n",
    "            [[b - gamma, b],\n",
    "             [-gamma, 0]]\n",
    "        ))\n",
    "    def get_reward(self, do_action: Literal['C', 'D'], re_action: Literal['C', 'D'], role: Literal['do', 're']) -> sympy.Symbol:\n",
    "        row = 0 if do_action == \"C\" else 1\n",
    "        col = 0 if re_action == \"C\" else 1\n",
    "        \n",
    "        if role == \"do\": \n",
    "            return self.reward[0][row, col]\n",
    "        else:\n",
    "            return self.reward[1][row, col]\n",
    "\n",
    "    def get_reward_mat(self, role: Literal['do', 're']) -> sympy.Matrix:\n",
    "        if role == \"do\":\n",
    "            return self.reward[0]\n",
    "        else:\n",
    "            return self.reward[1]\n",
    "\n",
    "    def get_reward_tuple(self, do_action: Literal['C', 'D'], re_action: Literal['C', 'D']) -> [sympy.Symbol, sympy.Symbol]:\n",
    "        row = 0 if do_action == \"C\" else 1\n",
    "        col = 0 if re_action == \"C\" else 1\n",
    "\n",
    "        return (self.reward[0][row, col], self.reward[1][row, col])\n",
    "    \n",
    "    def __getitem__(self, keys):\n",
    "        \"\"\"\n",
    "        output the symbol reward matrix or the symbol expression of the element in the reward matrix\n",
    "\n",
    "        example:\n",
    "            case1: rewardMat['do'], rewardMat['re'] ... , return symbol matrix\n",
    "            case2: rewardMat['C', 'C'], rewardMat['C', 'D'], rewardMat['D', 'C'], rewardMat['D', 'D'] ... , return binary tuple of symbol expression\n",
    "            case3: rewardMat['C', 'D', 'do'] ... , return symbol expression\n",
    "\n",
    "        Args:\n",
    "            keys (_type_): _description_\n",
    "\n",
    "        Raises:\n",
    "            KeyError: _description_\n",
    "\n",
    "        Returns:\n",
    "            Any: _description_\n",
    "        \"\"\"\n",
    "        if isinstance(keys, str):\n",
    "            assert keys in {'do', 're'}\n",
    "            return self.get_reward_mat(keys)\n",
    "        elif isinstance(keys, tuple):\n",
    "            assert keys[0] in {'C', 'D'}\n",
    "            assert keys[1] in {'C', 'D'}\n",
    "            if len(keys) == 3:\n",
    "                assert keys[2] in {'do', 're'}\n",
    "                return self.get_reward(keys[0], keys[1], keys[2])\n",
    "            elif len(keys) == 2:\n",
    "                return self.get_reward_tuple(keys[0], keys[1])\n",
    "        raise KeyError(\"Wrong key\")\n",
    "\n",
    "\n",
    "rewardMat = Reward()\n",
    "rewardMat.get_reward_mat(\"donor\")\n",
    "sympy.init_printing()\n",
    "rewardMat['do'], rewardMat['re'], rewardMat['C', 'C'], rewardMat['C', 'D'], rewardMat['D', 'C'], rewardMat['D', 'D'], rewardMat['C', 'D', 'do']"
   ]
  },
  {
   "cell_type": "markdown",
   "metadata": {},
   "source": [
    "## 2. Socail norm\n",
    "\n",
    "socail norm 决定了每次博弈中的声誉变化规则，博弈双方的动作将会改变接收者的声誉。双方行动对接收者声誉的影响可以用下表表示\n",
    "\n",
    "A socail norm determines the reputation changerule in each game, and the actions of both parties will change the reputation of the recipient. The impact of the actions of both parties on the reputation of the recipient can be represented by the following table\n",
    "\n",
    "| $do$'s action | C | C | D | D |\n",
    "| --- | --- | --- | --- | --- |\n",
    "| $re$'s action | C | D | C | D |\n",
    "| $re$'s new reputation | $s_1$ | $s_2$ | $s_3$ | $s_4$ |\n",
    "\n",
    "$s$的取值是$0$或$1$，$0$表示坏声誉，$1$表示好声誉。因此使用$s_1$, $s_2$, $s_3$, $s_4$ 的二进制位解释表达来为不同的 social norm 编号\n",
    "\n",
    "$s$ takes the value of $0$ or $1$, $0$ represents bad reputation, and $1$ represents good reputation. Therefore, use the binary bit interpretation expression of $s_1$, $s_2$, $s_3$, $s_4$ to number different social norms\n",
    "\n",
    "以 norm10 为例：\n",
    "\n",
    "Take norm10 as an example:\n",
    "\n",
    "| $do$'s action | C | C | D | D |\n",
    "| --- | --- | --- | --- | --- |\n",
    "| $re$'s action | C | D | C | D |\n",
    "| $re$'s new reputation | 1 | 0 | 1 | 0 |\n",
    "\n",
    "社会规范决定了博弈过程中接收者的声誉变化过程，表示为函数 $N_j(action^{do}, action^{re}) = s', 0 \\leq j \\leq 15 \\land j \\in Z $，其中 $s$ 表示接收者博弈之前的声誉状态，$s'$ 表示此次博弈后接收者的声誉状态。\n",
    "\n",
    "The social norm determines the reputation change process of the recipient in the game process, expressed as the function $g$, $g(action^{do}, action^{re}) = s'$, where $s$ represents the reputation state of the recipient before the game, and $s'$ represents the reputation of the recipient after this game state.\n"
   ]
  },
  {
   "cell_type": "code",
   "execution_count": 234,
   "metadata": {},
   "outputs": [
    {
     "data": {
      "text/plain": [
       "('1', '0', '1', '0')"
      ]
     },
     "execution_count": 234,
     "metadata": {},
     "output_type": "execute_result"
    }
   ],
   "source": [
    "# norm\n",
    "from typing import Literal\n",
    "class Norm():\n",
    "    new_reputation = {}\n",
    "    def __init__(self, code_no:int) -> None:\n",
    "        # calculate the four-digit binary code of code_no\n",
    "        ns = []\n",
    "        for i in range(4):\n",
    "            ns.append(code_no % 2)\n",
    "            code_no = code_no // 2\n",
    "        ns.reverse()\n",
    "        # change the 0,1 in ns to '0', '1'\n",
    "        ns = [str(n) for n in ns]\n",
    "        self.new_reputation = {\n",
    "        ('C', 'C') : ns[0],\n",
    "        ('C', 'D') : ns[1],\n",
    "        ('D', 'C') : ns[2],\n",
    "        ('D', 'D') : ns[3]\n",
    "        }\n",
    "    def __getitem__(self, actions: tuple[Literal['C', 'D'], Literal['C', 'D']]) -> str:\n",
    "        do_action, re_action = actions\n",
    "        assert do_action in {'C', 'D'}, \"do_action must be 'C' or 'D'\"\n",
    "        assert re_action in {'C', 'D'}, \"re_action must be 'C' or 'D'\"\n",
    "        return self.new_reputation[(do_action, re_action)]\n",
    "\n",
    "norm10 = Norm(10)\n",
    "norm10[('C', 'C')], norm10[('C', 'D')], norm10[('D', 'C')], norm10[('D', 'D')]"
   ]
  },
  {
   "cell_type": "markdown",
   "metadata": {},
   "source": [
    "## 3. a recipient's reputation state transition under the specific norm rule and strategies of two sides in continuous two-player game\n",
    "\n",
    "donor 根据接受者的声誉状态 $s$ 选择是否合作 $\\pi^{do} (s) = action^{do}$，recipient 根据donor对自己的行为选择是否合作 $\\pi^{re} (action^{do}) = action^{re}$\n",
    "\n",
    "A donor chooses whether to cooperate according to the reputation state $s$ of the recipient $\\pi^{do} (s) = action^{do}$, and the recipient chooses whether to cooperate according to the donor's behavior towards himself $\\pi^{re} (action^{do}) = action^{re}$\n",
    "\n",
    "因此，对于 donor 和 recipient 都有四种可能的策略，$\\pi_k^i, i \\in \\{do, re\\} \\land k \\in \\{1, 2, 3, 4\\}$\n",
    "\n",
    "Therefore, there are four possible strategies for both the donor and the recipient, $\\pi_k^i, i \\in \\{do, re\\} \\land k \\in \\{1, 2, 3, 4\\}$\n",
    "\n",
    "对 donor，存在策略：总是合作$C=\\pi_1^{do}$；对手声誉好就合作，对手声誉差就背叛$DISC=\\pi_2^{do}$；对手声誉好就背叛，对手声誉差就合作$NDISC=\\pi_3^{do}$，总是背叛$D=\\pi_4^{do}$\n",
    "\n",
    "For the donor, there are strategies: always cooperate $C=\\pi_1^{do}$; cooperate if the opponent's reputation is good, betray if the opponent's reputation is bad $DISC=\\pi_2^{do}$; betray if the opponent's reputation is good, cooperate if the opponent's reputation is bad $NDISC=\\pi_3^{do}$, always betray $D=\\pi_4^{do}$.\n",
    "\n",
    "C:\n",
    "\n",
    "|$re$'s reputation  | 0 | 1 |\n",
    "| :---------------------- | :---: | :---: |\n",
    "| $do$'s action | C | C |\n",
    "\n",
    "DISC:\n",
    "\n",
    "|$re$'s reputation  | 0 | 1 |\n",
    "| :---------------------- | :---: | :---: |\n",
    "| $do$'s action | D | C |\n",
    "\n",
    "NDISC:\n",
    "\n",
    "|$re$'s reputation  | 0 | 1 |\n",
    "| :---------------------- | :---: | :---: |\n",
    "| $do$'s action | C | D |\n",
    "\n",
    "D:\n",
    "| $re$'s reputation  | 0 | 1 |\n",
    "| :---------------------- | :---: | :---: |\n",
    "| $do$'s action | D | D |\n",
    "\n",
    "对 recipient，存在策略：从不回馈$NR=\\pi_1^{re}$；亲社会性回馈（对手合作就合作，对手背叛就背叛）$SR=\\pi_2^{re}$；反社会性回馈（对手合作就背叛，对手背叛就合作）$AR=\\pi_3^{re}$，无条件回馈$UR=\\pi_4^{re}$\n",
    "\n",
    "For recipient, there are strategies: never reward $NR=\\pi_1^{re}$; prosocial reward (cooperate if the opponent cooperates, betray if the opponent betrays) $SR=\\pi_2^{re}$; antisocial reward (betray if the opponent cooperates, cooperate if the opponent betrays) $AR=\\pi_3^{re}$, unconditional reward $UR=\\pi_4^{re}$\n",
    "\n",
    "NR:\n",
    "\n",
    "|$do$'s action  | C | D |\n",
    "| :---------------------- | :---: | :---: |\n",
    "| $re$'s action | D | D |\n",
    "\n",
    "SR:\n",
    "\n",
    "|$do$'s action  | C | D |\n",
    "| :---------------------- | :---: | :---: |\n",
    "| $re$'s action | C | D |\n",
    "\n",
    "AR:\n",
    "\n",
    "| $do$'s action  | C | D |\n",
    "| :---------------------- | :---: | :---: |\n",
    "| $re$'s action | D | C |\n",
    "\n",
    "UR:\n",
    "| $do$'s action  | C | D |\n",
    "| :---------------------- | :---: | :---: |\n",
    "| $re$'s action | C | C |\n",
    "\n",
    "<!-- $f(action^{do}, action^{re}) = (R^{do}, R^{re})$ -->\n",
    "\n",
    "$$\n",
    "\\begin{equation}\n",
    "    \\begin{aligned}\n",
    "    \\begin{cases}\n",
    "    \\pi_{k_1}^{do}(s) = action^{do} \\\\\n",
    "    \\pi_{k_2}^{re} (action^{do}) = action^{re} \\\\\n",
    "    N_j(action^{do}, action^{re}) = s'\n",
    "    \\end{cases}\n",
    "    \\end{aligned}\n",
    "\\end{equation}\n",
    "$$\n",
    "\n",
    "<!-- curry化 -->\n",
    "\n",
    "求得：\n",
    "\n",
    "obtain:\n",
    "\n",
    "$$\n",
    "\\begin{equation}\n",
    "    \\begin{aligned}\n",
    "        \\pi_{k_2}^{re} (\\pi_{k_1}^{do} (s)) &= action^{re} \\\\\n",
    "        N_j(\\pi_{k_1}^{do} (s), \\pi_{k_2}^{re} (\\pi_{k_1}^{do} (s))) &= s'\n",
    "    \\end{aligned}\n",
    "\\end{equation}\n",
    "$$\n",
    "\n",
    "<!-- 简化为 g'函数，可能存在表达问题，数学不严谨，将函数作为函数的输入 -->\n",
    "令\n",
    "\n",
    "Let\n",
    "\n",
    "$$\n",
    "\\begin{equation}\n",
    "    \\begin{aligned}\n",
    "        h(s, \\pi_{k_1}^{do}, \\pi_{k_2}^{re}, N_j) = N_j(\\pi_{k_1}^{do} (s), \\pi_{k_2}^{re} (\\pi_{k_1}^{do} (s))) = s'\n",
    "    \\end{aligned}\n",
    "\\end{equation}\n",
    "$$\n",
    "\n",
    "<!-- TODO: 策略非确定的情境下？ -->\n",
    "\n",
    "根据上式，在两人连续博弈的情景下，捐赠者和接收者的策略确定，接收者的声誉状态变化过程满足马尔可夫性质，为计算每种策略的期望价值，将该博弈过程作为马尔可夫奖励过程进行分析。\n",
    "\n",
    "According to the above formula, in the scenario of continuous two-player games, the strategies of the donor and the recipient are determined, and the reputation state change process of the recipient satisfies the Markov property. To calculate the expected value of each strategy, the game process is used as a Markov reward process for analysis.\n",
    "\n",
    "\n",
    "<!-- 如果状态转移不只依赖于上一个状态，那算马尔科夫过程吗？算，只要其他参数和更之前的状态无关就满足马尔可夫性质，因此一个马尔可夫过程由 s, 和状态转移矩阵p决定，当 p为动态的时候，为拓展马尔可夫过程 -->\n",
    "\n",
    "<!-- MRP（Markov Reward Process）和MDP（Markov Decision Process）都是马尔可夫过程的扩展，但它们的关注点和应用场景有所不同。\n",
    "1. MRP（Markov Reward Process）：在马尔可夫过程的基础上，MRP引入了奖励的概念。每个状态都有一个与之关联的奖励，状态转移时会获得这个奖励。MRP主要用于评估和比较不同的状态，但它没有考虑行动的影响。\n",
    "2. MDP（Markov Decision Process）：在MRP的基础上，MDP进一步引入了行动的概念。在每个状态，决策者可以选择一个行动，然后环境根据当前的状态和选择的行动转移到下一个状态，并给出一个奖励。MDP主要用于决策理论和强化学习。\n",
    "所以，MDP是MRP的扩展，它包含了行动的影响，使得它可以用于描述决策问题。 -->"
   ]
  },
  {
   "cell_type": "code",
   "execution_count": 235,
   "metadata": {},
   "outputs": [],
   "source": [
    "from typing import Literal\n",
    "# strategy\n",
    "class Stg():\n",
    "    STG_FUNC = {\n",
    "        'C': lambda input: 'C',\n",
    "        'DISC': lambda input: 'C' if input == '1' else 'D',\n",
    "        'NDISC': lambda input: 'D' if input == '1' else 'C',\n",
    "        'D': lambda input: 'D',\n",
    "        'NR': lambda input: 'D',\n",
    "        'SR': lambda input: 'C' if input == 'C' else 'D',\n",
    "        'AR': lambda input: 'D' if input == 'C' else 'C',\n",
    "        'UR': lambda input: 'C'\n",
    "    }\n",
    "    def __init__(self, stg_name: Literal['C', 'DISC', 'NDISC', 'D', 'NR', 'SR', 'AR', 'UR']) -> None:\n",
    "        assert stg_name in {'C', 'DISC', 'NDISC', 'D', 'NR', 'SR', 'AR', 'UR'}, \"stg_name must be 'C', 'DISC', 'NDISC', 'D', 'NR', 'SR', 'AR', 'UR'\"\n",
    "        self.stg_name = stg_name\n",
    "        self.stg = self.STG_FUNC[self.stg_name]\n",
    "\n",
    "    def __getitem__(self, input: Literal['C', 'D', '0', '1']) -> Literal['C', 'D']:\n",
    "        if self.stg_name in {'C', 'DISC', 'NDISC', 'D'}:\n",
    "            assert input in {'0', '1'}, \"donor strategy's input must be '1' or '0'\"\n",
    "        elif self.stg_name in {'NR', 'SR', 'AR', 'UR'}:\n",
    "            assert input in {'C', 'D'}, \"receiver strategy's input must be 'C' or 'D'\"\n",
    "        else:\n",
    "            raise KeyError(\"Wrong stg_name\")\n",
    "\n",
    "        return self.stg(input)\n",
    "\n",
    "# class stg's test cases\n",
    "assert Stg('C')['0'] == 'C'\n",
    "assert Stg('C')['1'] == 'C'\n",
    "assert Stg('DISC')['0'] == 'D'\n",
    "assert Stg('DISC')['1'] == 'C'\n",
    "assert Stg('NDISC')['0'] == 'C'\n",
    "assert Stg('NDISC')['1'] == 'D'\n",
    "assert Stg('D')['0'] == 'D'\n",
    "assert Stg('D')['1'] == 'D'\n",
    "assert Stg('NR')['C'] == 'D'\n",
    "assert Stg('NR')['D'] == 'D'\n",
    "assert Stg('SR')['C'] == 'C'\n",
    "assert Stg('SR')['D'] == 'D'\n",
    "assert Stg('AR')['C'] == 'D'\n",
    "assert Stg('AR')['D'] == 'C'\n",
    "assert Stg('UR')['C'] == 'C'\n",
    "assert Stg('UR')['D'] == 'C'"
   ]
  },
  {
   "cell_type": "markdown",
   "metadata": {},
   "source": [
    "### 2.2. Markov Reward Process\n",
    "\n",
    "Markov Reward Process 可以用四元组 $ <\\mathcal{S}, \\mathbf{T}, \\mathbf{R}, \\lambda> $ 表示，其中 $T$表示一步状态转移概率矩阵，$\\lambda$表示折扣因子。\n",
    "\n",
    "Markov Reward Process can be represented by a quadruple $ <\\mathcal{S}, \\mathbf{T}, \\mathbf{R}, \\lambda> $, where $\\mathbf{T}$ represents a one-step state transition probability matrix, and $\\lambda$ represents a discount factor.\n",
    "\n"
   ]
  },
  {
   "cell_type": "markdown",
   "metadata": {},
   "source": [
    "### 2.3. Compute $\\mathbf{T}$\n",
    "\n",
    "由状态转移公式\n",
    "\n",
    "From the state transition formula\n",
    "\n",
    "$$\n",
    "\\begin{equation}\n",
    "    \\begin{aligned}\n",
    "        N_j(\\pi_k^{do} (s), \\pi_k^{re} (\\pi_k^{do} (s))) &= s'\n",
    "    \\end{aligned}\n",
    "\\end{equation}\n",
    "$$\n",
    "\n",
    "一步状态转移概率矩阵 $\\mathbf{T}$ 由函数$\\pi_k^{do}$，$\\pi_k^{re}$和$N_j$ 决定\n",
    "\n",
    "one-step state transition probability matrix T is determined by functions $\\pi_k^{do}$, $\\pi_k^{re}$ and $N_j$\n",
    "\n",
    "设当前状态分布行向量为 $\\mathbf{P} = (p_{s=0}, p_{s=1})$，则下一状态分布为 $\\mathbf{P'} = (p'_{s=0}, p'_{s=0})$，由于是两人博弈，因此 $p_s, p'_s \\in \\{0, 1\\} \\land p_{s=0} + p_{s=1} = 1 \\land p'_{s=0} + p'_{s=1} = 1$\n",
    "\n",
    "Let the current state distribution row vector be $\\mathbf{P} = (p_{s=0}, p_{s=1})$, then the next state distribution is $\\mathbf{P'} = (p'_{s=0}, p'_{s=0})$, since it is a two-player game, $p_s, p'_s \\in \\{0, 1\\} \\land p_{s=0} + p_{s=1} = 1 \\land p'_{s=0} + p'_{s=1} = 1$\n",
    "\n",
    "$$\n",
    "\\mathbf{P} \\mathbf{T} = \\mathbf{P} \\begin{pmatrix} T_{00} & T_{01} \\\\ T_{10} & T_{11} \\end{pmatrix} = \\mathbf{P'}\n",
    "$$\n",
    "\n",
    "以 $\\pi_{k_1}^{do} = D$, $\\pi_{k_2}^{re} = NR$, $N_j = N_{10}$ 为例，计算 $\\mathbf{T}$\n",
    "\n",
    "Take $\\pi_{k_1}^{do} = D$, $\\pi_{k_2}^{re} = NR$, $N_j = N_{10}$ as an example, calculate $\\mathbf{T}$\n",
    "\n",
    "$h(s, D, NR, N_{10}) = s'$ 的值表为\n",
    "\n",
    "The value table of $h(s, D, NR, N_{10}) = s'$ is\n",
    "\n",
    "| $s$ | 0 | 1 |\n",
    "| --- | --- | --- |\n",
    "| $do$'s action | D | D |\n",
    "| $re$'s action | D | D |\n",
    "| $s'$ | 0 | 0 |\n",
    "\n",
    "根据值表\n",
    "\n",
    "According to the value table\n",
    "\n",
    "$$\n",
    "\\begin{equation}\n",
    "    \\begin{aligned}\n",
    "    \\begin{cases}\n",
    "    (1, 0) \\begin{pmatrix} T_{00} & T_{01} \\\\ T_{10} & T_{11} \\end{pmatrix} = (1, 0) \\quad, \\text{if } s = 0 \\\\\n",
    "    (0, 1) \\begin{pmatrix} T_{00} & T_{01} \\\\ T_{10} & T_{11} \\end{pmatrix} = (1, 0) \\quad, \\text{if } s = 1 \\\\\n",
    "    T_{00} + T_{01} = 1 \\\\\n",
    "    T_{10} + T_{11} = 1\n",
    "    \\end{cases}\n",
    "    \\Rightarrow\n",
    "    T = \\begin{pmatrix} 1 & 0 \\\\ 1 & 0 \\end{pmatrix}\n",
    "    \\end{aligned}\n",
    "\\end{equation}\n",
    "$$\n",
    "\n",
    "其状态转移过程可以用下图表示\n",
    "\n",
    "The state transition process can be represented by the following figure\n",
    "\n",
    "![D-NR_state_tran](./.asserts/D-NR_state_tran.jpg)\n",
    "\n",
    "该 $\\mathbf{T}$ 对应的 $\\mathbf{R}$ 为\n",
    "\n",
    "The $\\mathbf{T}$ corresponding to $\\mathbf{R}$ is\n",
    "\n",
    "$$\n",
    "\\begin{equation}\n",
    "    \\begin{aligned}\n",
    "    \\mathbf{R} = \\begin{pmatrix} R_0^{do} & R_0^{re} \\\\ R_1^{do} & R_1^{re} \\end{pmatrix} = \\begin{pmatrix} 0 & 0 \\\\ 0 & 0 \\end{pmatrix}\n",
    "    \\end{aligned}\n",
    "\\end{equation}\n",
    "$$"
   ]
  },
  {
   "cell_type": "code",
   "execution_count": 236,
   "metadata": {},
   "outputs": [],
   "source": [
    "# global variables\n",
    "T = sympy.Matrix([[sympy.Symbol(r\"T_{00}\"), sympy.Symbol(r\"T_{01}\")], [sympy.Symbol(r\"T_{10}\"), sympy.Symbol(r\"T_{11}\")]])\n",
    "s0_dis = sympy.Matrix([[1, 0]])\n",
    "s1_dis = sympy.Matrix([[0, 1]])\n",
    "do_stg_names = ['C', 'DISC', 'NDISC', 'D']\n",
    "re_stg_anmes = ['NR', 'SR', 'AR', 'UR']\n",
    "do_stgs = [Stg(name) for name in do_stg_names]\n",
    "re_stgs = [Stg(name) for name in re_stg_anmes]"
   ]
  },
  {
   "cell_type": "code",
   "execution_count": 237,
   "metadata": {},
   "outputs": [
    {
     "name": "stdout",
     "output_type": "stream",
     "text": [
      "{'0': '0', '1': '0'}\n"
     ]
    },
    {
     "data": {
      "image/png": "[encoded data removed]",
      "text/latex": [
       "$\\displaystyle \\left( \\left( 0, \\  0\\right), \\  \\left( 0, \\  0\\right)\\right)$"
      ],
      "text/plain": [
       "((0, 0), (0, 0))"
      ]
     },
     "execution_count": 237,
     "metadata": {},
     "output_type": "execute_result"
    }
   ],
   "source": [
    "# donor strategy, recipient strategy, social norm -> T\n",
    "def generate_value_table(do_stg, re_stg, norm):\n",
    "    # 生成 s -> s', do reward, re reward的 value table\n",
    "    reward_dict = {}\n",
    "    new_reputation_dict = {}\n",
    "    states = ['0', '1']\n",
    "    for s in states:\n",
    "        do_action = do_stg[s]\n",
    "        re_action = re_stg[do_action]\n",
    "        do_reward, re_reward = rewardMat[do_action, re_action]\n",
    "        reward_dict[s] = (do_reward, re_reward)\n",
    "        new_reputation_dict[s] = norm[(do_action, re_action)]\n",
    "    return reward_dict, new_reputation_dict\n",
    "\n",
    "reward_dict, new_reputation_dict= generate_value_table(do_stgs[3], re_stgs[0], Norm(10))\n",
    "print(new_reputation_dict)\n",
    "# ((R_0^{do}, R_1^{do}), (R_0^{re}, R_1^{re})\n",
    "reward_dict['0'], reward_dict['1']"
   ]
  },
  {
   "cell_type": "code",
   "execution_count": 238,
   "metadata": {},
   "outputs": [
    {
     "data": {
      "image/png": "[encoded data removed]",
      "text/latex": [
       "$\\displaystyle \\left( \\left( \\left[\\begin{matrix}1 & 0\\\\1 & 0\\end{matrix}\\right], \\  \\left[\\begin{matrix}0 & 0\\\\0 & 0\\end{matrix}\\right]\\right), \\  \\left( \\left[\\begin{matrix}1 & 0\\\\0 & 1\\end{matrix}\\right], \\  \\left[\\begin{matrix}\\beta & - \\gamma\\\\\\beta - c & b - \\gamma\\end{matrix}\\right]\\right)\\right)$"
      ],
      "text/plain": [
       "⎛⎛⎡1  0⎤  ⎡0  0⎤⎞  ⎛⎡1  0⎤  ⎡  β     -γ  ⎤⎞⎞\n",
       "⎜⎜⎢    ⎥, ⎢    ⎥⎟, ⎜⎢    ⎥, ⎢            ⎥⎟⎟\n",
       "⎝⎝⎣1  0⎦  ⎣0  0⎦⎠  ⎝⎣0  1⎦  ⎣β - c  b - γ⎦⎠⎠"
      ]
     },
     "execution_count": 238,
     "metadata": {},
     "output_type": "execute_result"
    }
   ],
   "source": [
    "def calculate_T(do_stg:Stg, re_stg:Stg, norm:Norm, s0_dis:sympy.Matrix, s1_dis:sympy.Matrix, T:sympy.Matrix):\n",
    "    \"\"\"calculate T by do_stg, re_stg, norm\n",
    "\n",
    "    Args:\n",
    "        do_stg (Stg): do's strategy\n",
    "        re_stg (Stg): re's strategy\n",
    "        norm (Norm): social norm\n",
    "        s0_dis (sympy.Matrix): distribution of states in state 0, example: sympy.Matrix([[1, 0]]), the column vector in sympy.Matrix must [[1,0]]\n",
    "        s1_dis (sympy.Matrix): distribution of states in state 1, example: sympy.Matrix([[0, 1]]), the column vector in sympy.Matrix must [[0,1]]\n",
    "        T (sympy.Matrix): transition matrix, example: sympy.Matrix([[sympy.Symbol(r\"T_{00}\"), sympy.Symbol(r\"T_{01}\")], [sympy.Symbol(r\"T_{10}\"), sympy.Symbol(r\"T_{11}\")]])\n",
    "\n",
    "    Returns:\n",
    "        _type_: _description_\n",
    "    \"\"\"\n",
    "    assert do_stg.stg_name in do_stg_names, f\"do_stg.stg_name must be in {do_stg_names}\"\n",
    "    assert re_stg.stg_name in re_stg_anmes, f\"re_stg.stg_name must be in {re_stg_anmes}\"\n",
    "    reward_dict, new_reputation_dict= generate_value_table(do_stg, re_stg, norm)\n",
    "    ls_s = ['0', '1']\n",
    "    ls_s_ = [new_reputation_dict['0'], new_reputation_dict['1']]\n",
    "    for i in range(len(ls_s)):\n",
    "        s, s_ = ls_s[i], ls_s_[i]\n",
    "        if s == '0':\n",
    "            if s_ == '0':\n",
    "                eq1 = sympy.Eq(s0_dis * T, s0_dis)\n",
    "            elif s_ == '1':\n",
    "                eq1 = sympy.Eq(s0_dis * T, s1_dis)\n",
    "            else:\n",
    "                raise KeyError(\"Wrong s_\")\n",
    "        elif s == '1':\n",
    "            if s_ == '0':\n",
    "                eq2 = sympy.Eq(s1_dis * T, s0_dis)\n",
    "            elif s_ == '1':\n",
    "                eq2 = sympy.Eq(s1_dis * T, s1_dis)\n",
    "            else:\n",
    "                raise KeyError(\"Wrong s_\")\n",
    "        else:\n",
    "            raise KeyError(\"Wrong s\")\n",
    "    # the sum of each row in T is 1\n",
    "    sum_expr_ls = []\n",
    "    for r in range(T.rows):\n",
    "        sum_expr = 0\n",
    "        for c in range(T.cols):\n",
    "            sum_expr += T[r, c]\n",
    "        sum_expr_ls.append(sum_expr)\n",
    "    other_eqs = [sympy.Eq(sum_expr, 1) for sum_expr in sum_expr_ls]\n",
    "    # will solve the equation to get a res like {T_{00} : 1/2, T_{01} : 1/2, T_{10} : 1/2, T_{11} : 1/2}\n",
    "    solution_T_dict = sympy.solve([eq1, eq2, *other_eqs], T)\n",
    "    T_value = sympy.Matrix([[solution_T_dict[T[0, 0]], solution_T_dict[T[0, 1]]], [solution_T_dict[T[1, 0]], solution_T_dict[T[1, 1]]]])\n",
    "    # R_{0}^{do}, R_{0}^{re}\n",
    "    # R_{1}^{do}, R_{1}^{re}\n",
    "    do = 0\n",
    "    re = 1\n",
    "    R_expr = sympy.Matrix([[reward_dict['0'][do], reward_dict['0'][re]], [reward_dict['1'][do], reward_dict['1'][re]]])\n",
    "\n",
    "    return T_value, R_expr\n",
    "\n",
    "calculate_T(Stg('D'), Stg('NR'), Norm(10), s0_dis, s1_dis, T), calculate_T(Stg('DISC'), Stg('UR'), Norm(9), s0_dis, s1_dis, T)"
   ]
  },
  {
   "cell_type": "code",
   "execution_count": 239,
   "metadata": {},
   "outputs": [
    {
     "data": {
      "image/png": "[encoded data removed]",
      "text/latex": [
       "$\\displaystyle \\left( \\left[\\begin{matrix}1 & 0\\\\1 & 0\\end{matrix}\\right], \\  \\left[\\begin{matrix}0 & 0\\\\0 & 0\\end{matrix}\\right]\\right)$"
      ],
      "text/plain": [
       "⎛⎡1  0⎤  ⎡0  0⎤⎞\n",
       "⎜⎢    ⎥, ⎢    ⎥⎟\n",
       "⎝⎣1  0⎦  ⎣0  0⎦⎠"
      ]
     },
     "execution_count": 239,
     "metadata": {},
     "output_type": "execute_result"
    }
   ],
   "source": [
    "# generate all T and corresponding R  make (do_stg, re_stg, norm -> T, R) a data structure\n",
    "from typing import Literal\n",
    "\n",
    "class TR():\n",
    "    tr_dict = {}\n",
    "    stable_dict = {}\n",
    "    def __init__(self) -> None:\n",
    "        for norm_no in range(16):\n",
    "            for do_stg in do_stgs:\n",
    "                for re_stg in re_stgs:\n",
    "                        norm = Norm(norm_no)\n",
    "                        T = sympy.Matrix([[sympy.Symbol(r\"T_{00}\"), sympy.Symbol(r\"T_{01}\")], [sympy.Symbol(r\"T_{10}\"), sympy.Symbol(r\"T_{11}\")]])\n",
    "                        T, R = calculate_T(do_stg, re_stg, norm, s0_dis, s1_dis, T)\n",
    "                        self.tr_dict[(do_stg.stg_name, re_stg.stg_name, norm_no)] = (T, R)\n",
    "    def __getitem__(self, keys) -> tuple[sympy.Matrix, sympy.Matrix]:\n",
    "        do_stg_name, re_stg_name, norm_no = keys\n",
    "        assert do_stg_name in do_stg_names, f\"do_stg_name must be in {do_stg_names}\"\n",
    "        assert re_stg_name in re_stg_anmes, f\"re_stg_name must be in {re_stg_anmes}\"\n",
    "        assert norm_no in range(16), \"norm_no must be in range(16)\"\n",
    "        return self.tr_dict[(do_stg_name, re_stg_name, norm_no)]\n",
    "    \n",
    "    def get_tr_by_norm(self, norm_no:int):\n",
    "        assert norm_no in range(16), \"norm_no must be in range(16)\"\n",
    "        res = []\n",
    "        for d in do_stgs:\n",
    "            for r in re_stgs:\n",
    "                res.append(self.tr_dict[(d.stg_name, r.stg_name, norm_no)])\n",
    "        return *res,\n",
    "\n",
    "trs = TR()\n",
    "trs['D', 'NR', 10]"
   ]
  },
  {
   "cell_type": "code",
   "execution_count": 240,
   "metadata": {},
   "outputs": [
    {
     "data": {
      "image/png": "[encoded data removed]",
      "text/latex": [
       "$\\displaystyle \\left( \\left( \\left[\\begin{matrix}1 & 0\\\\1 & 0\\end{matrix}\\right], \\  \\left[\\begin{matrix}- c & b\\\\- c & b\\end{matrix}\\right]\\right), \\  \\left( \\left[\\begin{matrix}0 & 1\\\\0 & 1\\end{matrix}\\right], \\  \\left[\\begin{matrix}\\beta - c & b - \\gamma\\\\\\beta - c & b - \\gamma\\end{matrix}\\right]\\right), \\  \\left( \\left[\\begin{matrix}1 & 0\\\\1 & 0\\end{matrix}\\right], \\  \\left[\\begin{matrix}- c & b\\\\- c & b\\end{matrix}\\right]\\right), \\  \\left( \\left[\\begin{matrix}0 & 1\\\\0 & 1\\end{matrix}\\right], \\  \\left[\\begin{matrix}\\beta - c & b - \\gamma\\\\\\beta - c & b - \\gamma\\end{matrix}\\right]\\right), \\  \\left( \\left[\\begin{matrix}1 & 0\\\\1 & 0\\end{matrix}\\right], \\  \\left[\\begin{matrix}0 & 0\\\\- c & b\\end{matrix}\\right]\\right), \\  \\left( \\left[\\begin{matrix}1 & 0\\\\0 & 1\\end{matrix}\\right], \\  \\left[\\begin{matrix}0 & 0\\\\\\beta - c & b - \\gamma\\end{matrix}\\right]\\right), \\  \\left( \\left[\\begin{matrix}0 & 1\\\\1 & 0\\end{matrix}\\right], \\  \\left[\\begin{matrix}\\beta & - \\gamma\\\\- c & b\\end{matrix}\\right]\\right), \\  \\left( \\left[\\begin{matrix}0 & 1\\\\0 & 1\\end{matrix}\\right], \\  \\left[\\begin{matrix}\\beta & - \\gamma\\\\\\beta - c & b - \\gamma\\end{matrix}\\right]\\right), \\  \\left( \\left[\\begin{matrix}1 & 0\\\\1 & 0\\end{matrix}\\right], \\  \\left[\\begin{matrix}- c & b\\\\0 & 0\\end{matrix}\\right]\\right), \\  \\left( \\left[\\begin{matrix}0 & 1\\\\1 & 0\\end{matrix}\\right], \\  \\left[\\begin{matrix}\\beta - c & b - \\gamma\\\\0 & 0\\end{matrix}\\right]\\right), \\  \\left( \\left[\\begin{matrix}1 & 0\\\\0 & 1\\end{matrix}\\right], \\  \\left[\\begin{matrix}- c & b\\\\\\beta & - \\gamma\\end{matrix}\\right]\\right), \\  \\left( \\left[\\begin{matrix}0 & 1\\\\0 & 1\\end{matrix}\\right], \\  \\left[\\begin{matrix}\\beta - c & b - \\gamma\\\\\\beta & - \\gamma\\end{matrix}\\right]\\right), \\  \\left( \\left[\\begin{matrix}1 & 0\\\\1 & 0\\end{matrix}\\right], \\  \\left[\\begin{matrix}0 & 0\\\\0 & 0\\end{matrix}\\right]\\right), \\  \\left( \\left[\\begin{matrix}1 & 0\\\\1 & 0\\end{matrix}\\right], \\  \\left[\\begin{matrix}0 & 0\\\\0 & 0\\end{matrix}\\right]\\right), \\  \\left( \\left[\\begin{matrix}0 & 1\\\\0 & 1\\end{matrix}\\right], \\  \\left[\\begin{matrix}\\beta & - \\gamma\\\\\\beta & - \\gamma\\end{matrix}\\right]\\right), \\  \\left( \\left[\\begin{matrix}0 & 1\\\\0 & 1\\end{matrix}\\right], \\  \\left[\\begin{matrix}\\beta & - \\gamma\\\\\\beta & - \\gamma\\end{matrix}\\right]\\right)\\right)$"
      ],
      "text/plain": [
       "⎛⎛⎡1  0⎤  ⎡-c  b⎤⎞  ⎛⎡0  1⎤  ⎡β - c  b - γ⎤⎞  ⎛⎡1  0⎤  ⎡-c  b⎤⎞  ⎛⎡0  1⎤  ⎡β -\n",
       "⎜⎜⎢    ⎥, ⎢     ⎥⎟, ⎜⎢    ⎥, ⎢            ⎥⎟, ⎜⎢    ⎥, ⎢     ⎥⎟, ⎜⎢    ⎥, ⎢   \n",
       "⎝⎝⎣1  0⎦  ⎣-c  b⎦⎠  ⎝⎣0  1⎦  ⎣β - c  b - γ⎦⎠  ⎝⎣1  0⎦  ⎣-c  b⎦⎠  ⎝⎣0  1⎦  ⎣β -\n",
       "\n",
       " c  b - γ⎤⎞  ⎛⎡1  0⎤  ⎡0   0⎤⎞  ⎛⎡1  0⎤  ⎡  0      0  ⎤⎞  ⎛⎡0  1⎤  ⎡β   -γ⎤⎞  \n",
       "         ⎥⎟, ⎜⎢    ⎥, ⎢     ⎥⎟, ⎜⎢    ⎥, ⎢            ⎥⎟, ⎜⎢    ⎥, ⎢      ⎥⎟, \n",
       " c  b - γ⎦⎠  ⎝⎣1  0⎦  ⎣-c  b⎦⎠  ⎝⎣0  1⎦  ⎣β - c  b - γ⎦⎠  ⎝⎣1  0⎦  ⎣-c  b ⎦⎠  \n",
       "\n",
       "⎛⎡0  1⎤  ⎡  β     -γ  ⎤⎞  ⎛⎡1  0⎤  ⎡-c  b⎤⎞  ⎛⎡0  1⎤  ⎡β - c  b - γ⎤⎞  ⎛⎡1  0⎤\n",
       "⎜⎢    ⎥, ⎢            ⎥⎟, ⎜⎢    ⎥, ⎢     ⎥⎟, ⎜⎢    ⎥, ⎢            ⎥⎟, ⎜⎢    ⎥\n",
       "⎝⎣0  1⎦  ⎣β - c  b - γ⎦⎠  ⎝⎣1  0⎦  ⎣0   0⎦⎠  ⎝⎣1  0⎦  ⎣  0      0  ⎦⎠  ⎝⎣0  1⎦\n",
       "\n",
       "  ⎡-c  b ⎤⎞  ⎛⎡0  1⎤  ⎡β - c  b - γ⎤⎞  ⎛⎡1  0⎤  ⎡0  0⎤⎞  ⎛⎡1  0⎤  ⎡0  0⎤⎞  ⎛⎡0\n",
       ", ⎢      ⎥⎟, ⎜⎢    ⎥, ⎢            ⎥⎟, ⎜⎢    ⎥, ⎢    ⎥⎟, ⎜⎢    ⎥, ⎢    ⎥⎟, ⎜⎢ \n",
       "  ⎣β   -γ⎦⎠  ⎝⎣0  1⎦  ⎣  β     -γ  ⎦⎠  ⎝⎣1  0⎦  ⎣0  0⎦⎠  ⎝⎣1  0⎦  ⎣0  0⎦⎠  ⎝⎣0\n",
       "\n",
       "  1⎤  ⎡β  -γ⎤⎞  ⎛⎡0  1⎤  ⎡β  -γ⎤⎞⎞\n",
       "   ⎥, ⎢     ⎥⎟, ⎜⎢    ⎥, ⎢     ⎥⎟⎟\n",
       "  1⎦  ⎣β  -γ⎦⎠  ⎝⎣0  1⎦  ⎣β  -γ⎦⎠⎠"
      ]
     },
     "execution_count": 240,
     "metadata": {},
     "output_type": "execute_result"
    }
   ],
   "source": [
    "# get T, R in specific norm, this is equivalent to the result computed manually\n",
    "trs.get_tr_by_norm(10)"
   ]
  },
  {
   "cell_type": "code",
   "execution_count": 241,
   "metadata": {},
   "outputs": [
    {
     "data": {
      "image/png": "[encoded data removed]",
      "text/plain": [
       "<Figure size 640x480 with 1 Axes>"
      ]
     },
     "metadata": {},
     "output_type": "display_data"
    }
   ],
   "source": [
    "# TODO: generate transition graph \n",
    "\n",
    "# 用 social norm 生成对应的 T\n",
    "# use social norm to generate T\n",
    "\n",
    "from enum import Enum\n",
    "import networkx as nx\n",
    "from networkx.drawing.nx_agraph import to_agraph \n",
    "import matplotlib.pyplot as plt\n",
    "\n",
    "\n",
    "\n",
    "# 创建一个有向图来表示状态机\n",
    "G = nx.DiGraph()\n",
    "# 状态空间大小为 2，状态为 0 和 1，创建枚举\n",
    "S0 = '0'\n",
    "S1 = '1'\n",
    "\n",
    "CC = 'CC'\n",
    "CD = 'CD'\n",
    "DC = 'DC'\n",
    "DD = 'DD'\n",
    "\n",
    "# 添加状态和转换\n",
    "G.add_edge(S0, S0, action=CD, probability=1)\n",
    "G.add_edge(S0, S1, action=CC, probability=1)\n",
    "# G.add_edge('state3', 'state1', action='action4', probability=1.0)\n",
    "\n",
    "# 使用pygraphviz将图转换为DOT格式\n",
    "# A = to_agraph(G) \n",
    "# A.write('fsm.dot')\n",
    "\n",
    "# 显示 networkx 图\n",
    "nx.draw(G, with_labels=True)\n",
    "plt.show()"
   ]
  },
  {
   "cell_type": "markdown",
   "metadata": {},
   "source": [
    "## 3. value computation\n",
    "\n",
    "$i$ 表示博弈参与者编号\n",
    "\n",
    "$i$ represents the number of game participants\n",
    "\n",
    "$$\n",
    "\\begin{equation}\n",
    "    \\begin{aligned}\n",
    "        V_s^i(\\mathbf{X})&=\\mathbb{E}_\\mathbf{X}[G^i(t)|s(t)=s] \\\\\n",
    "        &=\\mathbb{E}_\\mathbf{X}[(1 - \\lambda) \\sum_{k=0}^{\\infty} \\lambda^k r^i(t+k) | s(t) = s] \\\\\n",
    "        &=(1 - \\lambda) \\mathbb{E}_\\mathbf{X}[\\sum_{k=0}^{\\infty} \\lambda^k r^i(t+k) | s(t) = s] \\\\\n",
    "        &=(1 - \\lambda) \\mathbb{E}_\\mathbf{X}[r^i(t) + \\lambda \\sum_{k=1}^{\\infty} \\lambda^{k-1} r^i(t+k) | s(t) = s] \\\\\n",
    "        &\\overset{k = k + 1}{=} (1 - \\lambda) \\mathbb{E}_\\mathbf{X}[r^i(t) + \\lambda \\sum_{k=0}^{\\infty} \\lambda^{k} r^i(t+k+1) | s(t) = s] \\\\\n",
    "        &= \\mathbb{E}_\\mathbf{X} [(1-\\lambda) r^i(t) + \\lambda V_{s'}^i(\\mathbf{X}) | s(t) = s, s(t + 1) = s'] \\\\\n",
    "    \\end{aligned}\n",
    "\\end{equation}\n",
    "$$\n",
    "\n",
    "有向量 $\\mathbf{V}^i(\\mathbf{X}) \\in \\mathbb{R}^{|\\mathcal{S}|}$ 表示博弈参与者 $i$ 在状态 $s$ 下的价值函数，其中 $\\mathcal{S}$ 表示状态空间。\n",
    "\n",
    "The vector $\\mathbf{V}^i(\\mathbf{X}) \\in \\mathbb{R}^{|\\mathcal{S}|}$ represents the value function of game participant $i$ in state $s$, where $\\mathcal{S}$ represents the state space.\n",
    "\n",
    "$$\n",
    "\\begin{equation}\n",
    "    \\begin{aligned}\n",
    "        \\mathbf{V}^i(\\mathbf{X}) &= \\begin{pmatrix} V_0^i(\\mathbf{X}) \\\\ V_1^i(\\mathbf{X}) \\end{pmatrix} \\\\\n",
    "    \\end{aligned}\n",
    "\\end{equation}\n",
    "$$\n",
    "\n",
    "$V_0^i(\\mathbf{X})$ 表示博弈参与者 $i$ 在坏声誉下的价值函数，$V_1^i(\\mathbf{X})$ 表示 $i$ 在好声誉下的价值函数。\n",
    "\n",
    "$V_0^i(\\mathbf{X})$ represents the value function of game participant $i$ in bad reputation, and $V_1^i(\\mathbf{X})$ represents the value function of $i$ in good reputation.\n",
    "\n",
    "在本论文的情境中，状态空间 $\\mathcal{S}$ 为单次博弈过程中接收者的声誉状态，用$0$代表坏声誉，用$1$代表好声誉，因此 $\\mathcal{S} = \\{0, 1\\}$。\n",
    "\n",
    "In the context of this paper, the state space $\\mathcal{S}$ is the reputation state of the recipient in a single game process, with $0$ representing bad reputation and $1$ representing good reputation, so $\\mathcal{S} = \\{0, 1\\}$.\n",
    "\n",
    "有期望收益矩阵 $\\mathbb{E}_\\mathbf{X}[\\mathbf{R}]^i \\in \\mathbb{R}^{|\\mathcal{S}|} $ 表示 $i$ 在各状态下的期望收益。\n",
    "\n",
    "The expected reward matrix $\\mathbb{E}_\\mathbf{X}[\\mathbf{R}]^i \\in \\mathbb{R}^{|\\mathcal{S}|} $ represents the expected reward of $i$ in each state.\n",
    "\n",
    "对于$\\mathbb{E}_\\mathbf{X}[\\mathbf{R}]^i$\n",
    "\n",
    "for $\\mathbb{E}_\\mathbf{X}[\\mathbf{R}]^i$\n",
    "\n",
    "$$\n",
    "\\mathbb{E}_\\mathbf{X} [\\mathbf{R}]^i = \\begin{pmatrix} R_0^i \\\\ R_1^i \\end{pmatrix}\n",
    "$$\n",
    "\n",
    "$R_0^i$ 表示博弈参与者 $i$ 在坏声誉下的期望收益，$R_1^i$ 表示 $i$ 在好声誉下的期望收益。\n",
    "\n",
    "$R_0^i$ represents the expected payoff of game participant $i$ in bad reputation, and $R_1^i$ represents the expected payoff of $i$ in good reputation.\n",
    "\n",
    "有期望一步转移概率矩阵 $\\mathbb{E}_\\mathbf{X} [\\mathbf{T}] = \\begin{pmatrix} T_{00} & T_{01} \\\\ T_{10} & T_{11} \\end{pmatrix} \\in \\mathbb{R}^{|\\mathcal{S}| \\times |\\mathcal{S}|}$ 表示博弈参与者的声誉状态转移概率。\n",
    "\n",
    "The expected one-step transition probability matrix $\\mathbb{E}_\\mathbf{X} [\\mathbf{T}] = \\begin{pmatrix} T_{00} & T_{01} \\\\ T_{10} & T_{11} \\end{pmatrix} \\in \\mathbb{R}^{|\\mathcal{S}| \\times |\\mathcal{S}|}$ represents the reputation state transition probability of game participants."
   ]
  },
  {
   "cell_type": "markdown",
   "metadata": {},
   "source": [
    "### 3.1. Compute the $\\mathbf{V}^i(\\mathbf{X})$ under non-specific social norms\n",
    "\n",
    "$$\n",
    "\\begin{equation}\n",
    "    \\begin{aligned}\n",
    "    \\mathbf{V}^i(\\mathbf{X}) &= (1 - \\lambda) \\mathbb{E}_\\mathbf{X}[\\mathbf{R}]^i + \\lambda \\mathbb{E}_\\mathbf{X} [\\mathbf{T}] \\mathbf{V}^i(\\mathbf{X})\\\\\n",
    "    &= (1 - \\lambda) (I_2  - \\lambda \\mathbb{E}_\\mathbf{X} [\\mathbf{T}])^{-1} \\mathbb{E}_\\mathbf{X}[\\mathbf{R}]^i \\\\\n",
    "    \\end{aligned}\n",
    "\\end{equation}\n",
    "$$\n",
    "\n",
    "带入 $ \\mathbb{E}_\\mathbf{X} [\\mathbf{T}] $ 和 $ \\mathbb{E}_\\mathbf{X}[\\mathbf{R}]^i $ 得到\n",
    "\n",
    "Substituting $\\mathbb{E}_\\mathbf{X} [\\mathbf{T}]$ and $\\mathbb{E}_\\mathbf{X}[\\mathbf{R}]^i$ into the above equation\n",
    "\n",
    "$$\n",
    "\\begin{equation}\n",
    "    \\begin{aligned}\n",
    "\\mathbf{V}^i(x) &= \\frac{1-\\lambda}{(1-\\lambda T_{00})(1-\\lambda T_{11})-\\lambda^2T_{01}T_{10}} \\begin{pmatrix} 1 - T_{11} \\lambda & T_{01} \\lambda\\\\T_{10} \\lambda & 1 - T_{00} \\lambda \\end{pmatrix} \\begin{pmatrix}R_{0}^i\\\\R_{1}^i\\end{pmatrix} \\\\\n",
    "&= \\frac{1-\\lambda}{(1-\\lambda T_{00})(1-\\lambda T_{11})-\\lambda^2T_{01}T_{10}} \\binom{(1-\\lambda T_{11})R_0^i+\\lambda T_{01}R_1^i}{(1-\\lambda T_{00})R_1^i+\\lambda T_{10}R_0^i} \\\\\n",
    "    \\end{aligned}\n",
    "\\end{equation}\n",
    "$$\n",
    "\n",
    "$\\mathbf{V}^i(x) \\in \\mathbb{R}^{|\\mathcal{S}|}$ 可以表示为 $\\mathbf{V}(x) \\in \\mathbb{R}^{|\\mathcal{S}| \\times |\\mathcal{S}|}$\n",
    "\n",
    "$\\mathbf{V}^i(x) \\in \\mathbb{R}^{|\\mathcal{S}|}$ can be represented as $\\mathbf{V}(x) \\in \\mathbb{R}^{|\\mathcal{S}| \\times |\\mathcal{S}|}$\n",
    "\n",
    "\n",
    "在论文中，$i \\in \\{do, re\\}$，$do$ 表示捐赠者，$re$ 表示接受者。\n",
    "\n",
    "In the paper, $i \\in \\{do, re\\}$, $do$ represents the donor, and $re$ represents the recipient.\n",
    "\n",
    "$$\n",
    "\\begin{equation}\n",
    "    \\begin{aligned}\n",
    "        \\mathbf{V} &= \\begin{bmatrix} \\mathbf{V}^{do} & \\mathbf{V}^{re} \\end{bmatrix} \\\\\n",
    "        & =  \\frac{1-\\lambda}{(1-\\lambda T_{00})(1-\\lambda T_{11})-\\lambda^2T_{01}T_{10}} \\begin{pmatrix} 1- T_{11} \\lambda & T_{01} \\lambda\\\\T_{10} \\lambda & 1- T_{00} \\lambda \\end{pmatrix} \\begin{pmatrix}R_0^{do} & R_0^{re}\\\\R_1^{do} & R_1^{re}\\end{pmatrix} \\\\\n",
    "        & = \\frac{1 - \\lambda}{(1-\\lambda T_{00})(1-\\lambda T_{11})-\\lambda^2T_{01}T_{10}}\n",
    "\\begin{pmatrix}R_0^{do} \\left( 1 - T_{11} \\lambda\\right) + R_1^{do} T_{01} \\lambda & R_0^{re} \\left( 1 - T_{11} \\lambda\\right) + R_1^{re} T_{01} \\lambda\\\\R_0^{do} T_{10} \\lambda + R_1^{do} \\left( 1 - T_{00} \\lambda\\right) & R_0^{re} T_{10} \\lambda + R_1^{re} \\left( 1- T_{00} \\lambda \\right)\\end{pmatrix}\n",
    "    \\end{aligned}\n",
    "\\end{equation}"
   ]
  },
  {
   "cell_type": "markdown",
   "metadata": {},
   "source": [
    "### 3.2. compute $\\mathbf{V}^i$ using sympy"
   ]
  },
  {
   "cell_type": "code",
   "execution_count": 242,
   "metadata": {},
   "outputs": [
    {
     "name": "stdout",
     "output_type": "stream",
     "text": [
      "Matrix([[(-T11*lamda + 1)/(T00*T11*lamda**2 - T00*lamda - T01*T10*lamda**2 - T11*lamda + 1), T01*lamda/(T00*T11*lamda**2 - T00*lamda - T01*T10*lamda**2 - T11*lamda + 1)], [T10*lamda/(T00*T11*lamda**2 - T00*lamda - T01*T10*lamda**2 - T11*lamda + 1), (-T00*lamda + 1)/(T00*T11*lamda**2 - T00*lamda - T01*T10*lamda**2 - T11*lamda + 1)]])\n",
      "\\frac{1 - \\lambda}{T_{00} T_{11} \\lambda^{2} - T_{00} \\lambda - T_{01} T_{10} \\lambda^{2} - T_{11} \\lambda + 1}\n",
      "\\left[\\begin{matrix}- T_{11} \\lambda + 1 & T_{01} \\lambda\\\\T_{10} \\lambda & - T_{00} \\lambda + 1\\end{matrix}\\right]\n",
      "\\left[\\begin{matrix}R_{0}\\\\R_{1}\\end{matrix}\\right]\n"
     ]
    },
    {
     "data": {
      "image/png": "[encoded data removed]",
      "text/latex": [
       "$\\displaystyle \\left( \\frac{1 - \\lambda}{T_{00} T_{11} \\lambda^{2} - T_{00} \\lambda - T_{01} T_{10} \\lambda^{2} - T_{11} \\lambda + 1}, \\  \\left[\\begin{matrix}- T_{11} \\lambda + 1 & T_{01} \\lambda\\\\T_{10} \\lambda & - T_{00} \\lambda + 1\\end{matrix}\\right], \\  \\left[\\begin{matrix}R_{0}\\\\R_{1}\\end{matrix}\\right]\\right)$"
      ],
      "text/plain": [
       "⎛                   1 - λ                     ⎡-T₁₁⋅λ + 1    T₀₁⋅λ   ⎤  ⎡R₀⎤⎞\n",
       "⎜───────────────────────────────────────────, ⎢                      ⎥, ⎢  ⎥⎟\n",
       "⎜         2                    2              ⎣  T₁₀⋅λ     -T₀₀⋅λ + 1⎦  ⎣R₁⎦⎟\n",
       "⎝T₀₀⋅T₁₁⋅λ  - T₀₀⋅λ - T₀₁⋅T₁₀⋅λ  - T₁₁⋅λ + 1                                ⎠"
      ]
     },
     "execution_count": 242,
     "metadata": {},
     "output_type": "execute_result"
    }
   ],
   "source": [
    "import sympy\n",
    "# 使用sympy进行矩阵解析式的推导\n",
    "# use sympy to derive the matrix expression\n",
    "\n",
    "E = sympy.eye(2)\n",
    "\n",
    "T = sympy.Matrix([[sympy.Symbol('T00'), sympy.Symbol('T01')],\n",
    "                  [sympy.Symbol('T10'), sympy.Symbol('T11')]])\n",
    "\n",
    "lamda = sympy.Symbol(\"lamda\")\n",
    "temp_mat = E - lamda * T\n",
    "temp_mat = temp_mat.inv()\n",
    "print(temp_mat)\n",
    "\n",
    "# 提取公因子化简temp_mat\n",
    "# extract the common factor to simplify temp_mat\n",
    "gcd = sympy.gcd(temp_mat[0, 0], temp_mat[0, 1])\n",
    "temp_mat = temp_mat / gcd\n",
    "gcd  = (1 - lamda) * gcd\n",
    "\n",
    "Ri = sympy.Matrix([[sympy.Symbol('R0')], [sympy.Symbol('R1')]])\n",
    "# temp_mat * R\n",
    "\n",
    "# result\n",
    "sympy.init_printing()\n",
    "print(sympy.latex(gcd))\n",
    "print(sympy.latex(temp_mat))\n",
    "print(sympy.latex(Ri))\n",
    "gcd, temp_mat, Ri"
   ]
  },
  {
   "cell_type": "code",
   "execution_count": 243,
   "metadata": {},
   "outputs": [
    {
     "data": {
      "image/png": "[encoded data removed]",
      "text/latex": [
       "$\\displaystyle \\left( \\frac{1 - \\lambda}{T_{00} T_{11} \\lambda^{2} - T_{00} \\lambda - T_{01} T_{10} \\lambda^{2} - T_{11} \\lambda + 1}, \\  \\left[\\begin{matrix}R_{0} \\left(- T_{11} \\lambda + 1\\right) + R_{1} T_{01} \\lambda\\\\R_{0} T_{10} \\lambda + R_{1} \\left(- T_{00} \\lambda + 1\\right)\\end{matrix}\\right]\\right)$"
      ],
      "text/plain": [
       "⎛                   1 - λ                     ⎡R₀⋅(-T₁₁⋅λ + 1) + R₁⋅T₀₁⋅λ⎤⎞\n",
       "⎜───────────────────────────────────────────, ⎢                          ⎥⎟\n",
       "⎜         2                    2              ⎣R₀⋅T₁₀⋅λ + R₁⋅(-T₀₀⋅λ + 1)⎦⎟\n",
       "⎝T₀₀⋅T₁₁⋅λ  - T₀₀⋅λ - T₀₁⋅T₁₀⋅λ  - T₁₁⋅λ + 1                              ⎠"
      ]
     },
     "execution_count": 243,
     "metadata": {},
     "output_type": "execute_result"
    }
   ],
   "source": [
    "gcd, temp_mat*Ri"
   ]
  },
  {
   "cell_type": "markdown",
   "metadata": {},
   "source": [
    "### 3.3. compute $\\mathbf{V}$ using sympy"
   ]
  },
  {
   "cell_type": "code",
   "execution_count": 244,
   "metadata": {},
   "outputs": [
    {
     "name": "stdout",
     "output_type": "stream",
     "text": [
      "\\left[\\begin{matrix}R_0^{do} & R_0^{re}\\\\R_1^{do} & R_1^{re}\\end{matrix}\\right]\n"
     ]
    },
    {
     "data": {
      "image/png": "[encoded data removed]",
      "text/latex": [
       "$\\displaystyle \\left[\\begin{matrix}R_0^{do} & R_0^{re}\\\\R_1^{do} & R_1^{re}\\end{matrix}\\right]$"
      ],
      "text/plain": [
       "⎡R_0__{do}  R_0__{re}⎤\n",
       "⎢                    ⎥\n",
       "⎣R_1__{do}  R_1__{re}⎦"
      ]
     },
     "execution_count": 244,
     "metadata": {},
     "output_type": "execute_result"
    }
   ],
   "source": [
    "R = sympy.Matrix([[sympy.Symbol(r'R_0^{do}'), sympy.Symbol(r'R_0^{re}')], [sympy.Symbol(r'R_1^{do}'), sympy.Symbol(r'R_1^{re}')]])\n",
    "print(sympy.latex(R))\n",
    "R"
   ]
  },
  {
   "cell_type": "code",
   "execution_count": 245,
   "metadata": {},
   "outputs": [
    {
     "name": "stdout",
     "output_type": "stream",
     "text": [
      "\\frac{1 - \\lambda}{T_{00} T_{11} \\lambda^{2} - T_{00} \\lambda - T_{01} T_{10} \\lambda^{2} - T_{11} \\lambda + 1}\n",
      "\\left[\\begin{matrix}R_0^{do} \\left(- T_{11} \\lambda + 1\\right) + R_1^{do} T_{01} \\lambda & R_0^{re} \\left(- T_{11} \\lambda + 1\\right) + R_1^{re} T_{01} \\lambda\\\\R_0^{do} T_{10} \\lambda + R_1^{do} \\left(- T_{00} \\lambda + 1\\right) & R_0^{re} T_{10} \\lambda + R_1^{re} \\left(- T_{00} \\lambda + 1\\right)\\end{matrix}\\right]\n"
     ]
    },
    {
     "data": {
      "image/png": "[encoded data removed]",
      "text/latex": [
       "$\\displaystyle \\left( \\frac{1 - \\lambda}{T_{00} T_{11} \\lambda^{2} - T_{00} \\lambda - T_{01} T_{10} \\lambda^{2} - T_{11} \\lambda + 1}, \\  \\left[\\begin{matrix}R_0^{do} \\left(- T_{11} \\lambda + 1\\right) + R_1^{do} T_{01} \\lambda & R_0^{re} \\left(- T_{11} \\lambda + 1\\right) + R_1^{re} T_{01} \\lambda\\\\R_0^{do} T_{10} \\lambda + R_1^{do} \\left(- T_{00} \\lambda + 1\\right) & R_0^{re} T_{10} \\lambda + R_1^{re} \\left(- T_{00} \\lambda + 1\\right)\\end{matrix}\\right]\\right)$"
      ],
      "text/plain": [
       "⎛                   1 - λ                     ⎡R_0__{do}⋅(-T₁₁⋅λ + 1) + R_1__{\n",
       "⎜───────────────────────────────────────────, ⎢                               \n",
       "⎜         2                    2              ⎣R_0__{do}⋅T₁₀⋅λ + R_1__{do}⋅(-T\n",
       "⎝T₀₀⋅T₁₁⋅λ  - T₀₀⋅λ - T₀₁⋅T₁₀⋅λ  - T₁₁⋅λ + 1                                  \n",
       "\n",
       "do}⋅T₀₁⋅λ  R_0__{re}⋅(-T₁₁⋅λ + 1) + R_1__{re}⋅T₀₁⋅λ⎤⎞\n",
       "                                                   ⎥⎟\n",
       "₀₀⋅λ + 1)  R_0__{re}⋅T₁₀⋅λ + R_1__{re}⋅(-T₀₀⋅λ + 1)⎦⎟\n",
       "                                                    ⎠"
      ]
     },
     "execution_count": 245,
     "metadata": {},
     "output_type": "execute_result"
    }
   ],
   "source": [
    "print(sympy.latex(gcd))\n",
    "print(sympy.latex(temp_mat*R))\n",
    "gcd, temp_mat*R"
   ]
  },
  {
   "cell_type": "markdown",
   "metadata": {},
   "source": [
    "### 3.4. $\\mathbf{V}$ under the specific norm rule, donor strategy and recipient strategy"
   ]
  },
  {
   "cell_type": "markdown",
   "metadata": {},
   "source": [
    "针对 norm 编号为 $10$，donor的策略为 $D$，recipient的策略为 $NR$，计算 $\\mathbf{V}$\n",
    "\n",
    "For norm number $10$, donor's strategy is $D$, recipient's strategy is $NR$, calculate $\\mathbf{V}$\n",
    "\n",
    "$$\n",
    "\\begin{equation}\n",
    "    \\begin{aligned}\n",
    "        \\mathbf{V} &= \\frac{1 - \\lambda}{(1-\\lambda T_{00})(1-\\lambda T_{11})-\\lambda^2T_{01}T_{10}}\n",
    "\\begin{pmatrix}R_0^{do} \\left( 1 - T_{11} \\lambda\\right) + R_1^{do} T_{01} \\lambda & R_0^{re} \\left( 1 - T_{11} \\lambda\\right) + R_1^{re} T_{01} \\lambda\\\\R_0^{do} T_{10} \\lambda + R_1^{do} \\left( 1 - T_{00} \\lambda\\right) & R_0^{re} T_{10} \\lambda + R_1^{re} \\left( 1- T_{00} \\lambda \\right)\\end{pmatrix} \\\\\n",
    "        &= \\frac{1 - \\lambda}{(1-\\lambda T_{00})(1-\\lambda T_{11})-\\lambda^2T_{01}T_{10}}\n",
    "\\begin{pmatrix}0 \\left( 1 - T_{11} \\lambda\\right) + 0 T_{01} \\lambda & 0 \\left( 1 - T_{11} \\lambda\\right) + 0 T_{01} \\lambda\\\\0 T_{10} \\lambda + 0 \\left( 1 - T_{00} \\lambda\\right) & 0 T_{10} \\lambda + 0 \\left( 1- T_{00} \\lambda \\right)\\end{pmatrix} \\\\\n",
    "        &= \\frac{1 - \\lambda}{(1-\\lambda T_{00})(1-\\lambda T_{11})-\\lambda^2T_{01}T_{10}}\n",
    "\\begin{pmatrix}0 & 0\\\\0 & 0\\end{pmatrix} \\\\\n",
    "        &= \\begin{pmatrix}0 & 0\\\\0 & 0\\end{pmatrix} \\\\\n",
    "        &= \\begin{pmatrix} V_0^{do} & V_0^{re} \\\\ V_1^{do} & V_1^{re} \\end{pmatrix} \n",
    "    \\end{aligned}\n",
    "\\end{equation}\n",
    "$$\n"
   ]
  },
  {
   "cell_type": "code",
   "execution_count": 246,
   "metadata": {},
   "outputs": [
    {
     "data": {
      "image/png": "[encoded data removed]",
      "text/latex": [
       "$\\displaystyle \\left[\\begin{matrix}0 & 0\\\\0 & 0\\end{matrix}\\right]$"
      ],
      "text/plain": [
       "⎡0  0⎤\n",
       "⎢    ⎥\n",
       "⎣0  0⎦"
      ]
     },
     "execution_count": 246,
     "metadata": {},
     "output_type": "execute_result"
    }
   ],
   "source": [
    "# 带入 T00 = 0, T01 = 1, T10 = 0, T11 = 0，求出 gcd 和 temp_mat * R\n",
    "import sympy\n",
    "\n",
    "def value(T:sympy.Matrix, R:sympy.Matrix):\n",
    "\n",
    "    E = sympy.eye(2)\n",
    "   \n",
    "    lamda = sympy.Symbol(\"lamda\")\n",
    "    \n",
    "    temp_mat = E - lamda * T\n",
    "    temp_mat = temp_mat.inv()\n",
    "    \n",
    "    # extract the common factor to simplify temp_mat\n",
    "    gcd = sympy.gcd(temp_mat[0, 0], temp_mat[0, 1])\n",
    "    temp_mat = temp_mat / gcd\n",
    "    gcd_value = (gcd * (1 - lamda))\n",
    "    gcd_value = sympy.simplify(gcd_value)\n",
    "    temp_value = (temp_mat * R)\n",
    "    temp_value = sympy.simplify(temp_value)\n",
    "    # return gcd_value, temp_value\n",
    "    return (gcd_value*temp_value).simplify()\n",
    "\n",
    "sympy.init_printing()\n",
    "value(*trs['D', 'NR', 10])"
   ]
  },
  {
   "cell_type": "code",
   "execution_count": 247,
   "metadata": {},
   "outputs": [
    {
     "data": {
      "image/png": "[encoded data removed]",
      "text/latex": [
       "$\\displaystyle \\left( \\left[\\begin{matrix}- c & b\\\\- c & b\\end{matrix}\\right], \\  \\left[\\begin{matrix}\\beta - c & b - \\gamma\\\\\\beta - c & b - \\gamma\\end{matrix}\\right], \\  \\left[\\begin{matrix}- c & b\\\\- c & b\\end{matrix}\\right], \\  \\left[\\begin{matrix}\\beta - c & b - \\gamma\\\\\\beta - c & b - \\gamma\\end{matrix}\\right], \\  \\left[\\begin{matrix}0 & 0\\\\c \\left(\\lambda - 1\\right) & b \\left(1 - \\lambda\\right)\\end{matrix}\\right], \\  \\left[\\begin{matrix}0 & 0\\\\\\beta - c & b - \\gamma\\end{matrix}\\right], \\  \\left[\\begin{matrix}\\frac{\\beta - c \\lambda}{\\lambda + 1} & \\frac{b \\lambda - \\gamma}{\\lambda + 1}\\\\\\frac{\\beta \\lambda - c}{\\lambda + 1} & \\frac{b - \\gamma \\lambda}{\\lambda + 1}\\end{matrix}\\right], \\  \\left[\\begin{matrix}\\beta - c \\lambda & b \\lambda - \\gamma\\\\\\beta - c & b - \\gamma\\end{matrix}\\right], \\  \\left[\\begin{matrix}- c & b\\\\- c \\lambda & b \\lambda\\end{matrix}\\right], \\  \\left[\\begin{matrix}\\frac{\\beta - c}{\\lambda + 1} & \\frac{b - \\gamma}{\\lambda + 1}\\\\\\frac{\\lambda \\left(\\beta - c\\right)}{\\lambda + 1} & \\frac{\\lambda \\left(b - \\gamma\\right)}{\\lambda + 1}\\end{matrix}\\right], \\  \\left[\\begin{matrix}- c & b\\\\\\beta & - \\gamma\\end{matrix}\\right], \\  \\left[\\begin{matrix}\\beta + c \\lambda - c & - b \\lambda + b - \\gamma\\\\\\beta & - \\gamma\\end{matrix}\\right], \\  \\left[\\begin{matrix}0 & 0\\\\0 & 0\\end{matrix}\\right], \\  \\left[\\begin{matrix}0 & 0\\\\0 & 0\\end{matrix}\\right], \\  \\left[\\begin{matrix}\\beta & - \\gamma\\\\\\beta & - \\gamma\\end{matrix}\\right], \\  \\left[\\begin{matrix}\\beta & - \\gamma\\\\\\beta & - \\gamma\\end{matrix}\\right]\\right)$"
      ],
      "text/plain": [
       "⎛                                                                             \n",
       "⎜                                                                             \n",
       "⎜⎡-c  b⎤  ⎡β - c  b - γ⎤  ⎡-c  b⎤  ⎡β - c  b - γ⎤  ⎡    0          0    ⎤  ⎡  \n",
       "⎜⎢     ⎥, ⎢            ⎥, ⎢     ⎥, ⎢            ⎥, ⎢                    ⎥, ⎢  \n",
       "⎜⎣-c  b⎦  ⎣β - c  b - γ⎦  ⎣-c  b⎦  ⎣β - c  b - γ⎦  ⎣c⋅(λ - 1)  b⋅(1 - λ)⎦  ⎣β \n",
       "⎜                                                                             \n",
       "⎝                                                                             \n",
       "\n",
       "             ⎡β - c⋅λ  b⋅λ - γ⎤                                   ⎡  β - c    \n",
       "             ⎢───────  ───────⎥                                   ⎢  ─────    \n",
       "0      0  ⎤  ⎢ λ + 1    λ + 1 ⎥  ⎡β - c⋅λ  b⋅λ - γ⎤  ⎡ -c    b ⎤  ⎢  λ + 1    \n",
       "          ⎥, ⎢                ⎥, ⎢                ⎥, ⎢         ⎥, ⎢           \n",
       "- c  b - γ⎦  ⎢β⋅λ - c  b - γ⋅λ⎥  ⎣ β - c    b - γ ⎦  ⎣-c⋅λ  b⋅λ⎦  ⎢λ⋅(β - c)  \n",
       "             ⎢───────  ───────⎥                                   ⎢─────────  \n",
       "             ⎣ λ + 1    λ + 1 ⎦                                   ⎣  λ + 1    \n",
       "\n",
       "  b - γ  ⎤                                                                    \n",
       "  ─────  ⎥                                                                    \n",
       "  λ + 1  ⎥  ⎡-c  b ⎤  ⎡β + c⋅λ - c  -b⋅λ + b - γ⎤  ⎡0  0⎤  ⎡0  0⎤  ⎡β  -γ⎤  ⎡β\n",
       "         ⎥, ⎢      ⎥, ⎢                         ⎥, ⎢    ⎥, ⎢    ⎥, ⎢     ⎥, ⎢ \n",
       "λ⋅(b - γ)⎥  ⎣β   -γ⎦  ⎣     β            -γ     ⎦  ⎣0  0⎦  ⎣0  0⎦  ⎣β  -γ⎦  ⎣β\n",
       "─────────⎥                                                                    \n",
       "  λ + 1  ⎦                                                                    \n",
       "\n",
       "     ⎞\n",
       "     ⎟\n",
       "  -γ⎤⎟\n",
       "    ⎥⎟\n",
       "  -γ⎦⎟\n",
       "     ⎟\n",
       "     ⎠"
      ]
     },
     "execution_count": 247,
     "metadata": {},
     "output_type": "execute_result"
    }
   ],
   "source": [
    "# use map to process all T and R in trs.get_tr_by_norm(10)\n",
    "res = map(lambda tr: value(tr[0], tr[1]), trs.get_tr_by_norm(10))\n",
    "res_ls = []\n",
    "for r in res:\n",
    "    res_ls.append(r)\n",
    "tuple(res_ls)"
   ]
  },
  {
   "cell_type": "markdown",
   "metadata": {},
   "source": [
    "又 $ \\mathbf{V} = \\begin{pmatrix} V_0^{do} & V_0^{re} \\\\ V_1^{do} & V_1^{re} \\end{pmatrix} $，根据状态分布 $\\mathbf{P} = (p_{s=0}, p_{s=1})$，有 $\\mathbf{P} \\mathbf{V} =  ( p_{s=0} V_0^{do} + p_{s=1} V_1^{do},\\quad p_{s=0} V_0^{re} + p_{s=1} V_1^{re} )$ 表示策略价值，第一个元素表示捐赠者的策略价值，第二个元素表示接收者的策略价值。\n",
    "\n",
    "And $ \\mathbf{V} = \\begin{pmatrix} V_0^{do} & V_0^{re} \\\\ V_1^{do} & V_1^{re} \\end{pmatrix} $, according to the state distribution $\\mathbf{P} = (p_{s=0}, p_{s=1})$, there is $\\mathbf{P} \\mathbf{V} =  ( p_{s=0} V_0^{do} + p_{s=1} V_1^{do},\\quad p_{s=0} V_0^{re} + p_{s=1} V_1^{re} )$ represents the strategy value, the first element represents the strategy value of the donor, and the second element represents the strategy value of the recipient.\n",
    "\n",
    "<!-- TODO: strategy and stable distribution all uses $\\pi$ -->\n",
    "\n",
    "由马尔可夫过程计算出平稳分布 $ \\mathbf{\\pi} = (\\pi_0, \\pi_1) $，其中 $\\pi_0$ 表示坏声誉的平稳分布，$\\pi_1$ 表示好声誉的平稳分布。则经过连续博弈收敛至平稳分布的策略价值为 $ \\mathbf{\\pi} \\mathbf{V} = (\\pi_0 V_0^{do} + \\pi_1 V_1^{do}, \\pi_0 V_0^{re} + \\pi_1 V_1^{re}) $。"
   ]
  },
  {
   "cell_type": "markdown",
   "metadata": {},
   "source": [
    "#### calculate the stable distribution of the state"
   ]
  },
  {
   "cell_type": "code",
   "execution_count": 248,
   "metadata": {},
   "outputs": [],
   "source": [
    "def get_stable(T:sympy.Matrix, P0:sympy.Matrix) -> sympy.Matrix:\n",
    "    \"\"\" calculate the stable distribution of states\n",
    "\n",
    "    Args:\n",
    "        T (sympy.Matrix): one step transition matrix of states\n",
    "        P0 (sympy.Matrix): initial distribution of states, example: P0 = sympy.Matrix([[p_, p]])\n",
    "\n",
    "    Returns:\n",
    "        sympy.Matrix: stable distribution of states\n",
    "    \"\"\"\n",
    "    pi0 = sympy.Symbol(r\"pi0\")\n",
    "    pi1 = sympy.Symbol(r\"pi1\")\n",
    "    pi = sympy.Matrix([[pi0, pi1]])\n",
    "    eq1 = sympy.Eq(pi * T, pi)\n",
    "    eq2 = sympy.Eq(pi0 + pi1, 1)\n",
    "    solution = sympy.solve([eq1, eq2], pi0, pi1)\n",
    "    # 对 solution 赋予 P0 中的值\n",
    "    solution[pi0] = P0[0, 0]\n",
    "    solution[pi1] = P0[0, 1]\n",
    "    res_pi = sympy.Matrix([[solution[pi0], solution[pi1]]])\n",
    "    return res_pi\n",
    "res = get_stable(trs['DISC', 'SR', 10][0], P0)"
   ]
  },
  {
   "cell_type": "code",
   "execution_count": 253,
   "metadata": {},
   "outputs": [],
   "source": [
    "def value_stable(T:sympy.Matrix, R:sympy.Matrix, P0:sympy.Matrix):\n",
    "\n",
    "    E = sympy.eye(2)\n",
    "   \n",
    "    lamda = sympy.Symbol(\"lamda\")\n",
    "    \n",
    "    temp_mat = E - lamda * T\n",
    "    temp_mat = temp_mat.inv()\n",
    "    \n",
    "    # extract the common factor to simplify temp_mat\n",
    "    gcd = sympy.gcd(temp_mat[0, 0], temp_mat[0, 1])\n",
    "    temp_mat = temp_mat / gcd\n",
    "    gcd_value = (gcd * (1 - lamda))\n",
    "    gcd_value = sympy.simplify(gcd_value)\n",
    "    temp_value = (temp_mat * R)\n",
    "    temp_value = sympy.simplify(temp_value)\n",
    "    # return gcd_value, temp_value\n",
    "    v2_2 = (gcd_value*temp_value).simplify()\n",
    "    v1_2 = get_stable(T, P0) * v2_2\n",
    "    return v1_2\n",
    "\n",
    "value_stable(*trs['DISC', 'SR', 10], P0)\n",
    "import random\n",
    "# random test\n",
    "ouput_file = open(\"output.txt\", \"w\")\n",
    "ouput_file.write(\"do_stg_name,re_stg_name,norm_no,res\\n\")\n",
    "times = 50\n",
    "for i in range(times):\n",
    "    random_do_stg_name = random.choice(do_stg_names)\n",
    "    random_re_stg_name = random.choice(re_stg_anmes)\n",
    "    random_norm_no = random.choice(range(16))\n",
    "    res = value_stable(*trs[random_do_stg_name, random_re_stg_name, random_norm_no], P0)\n",
    "    ouput_file.write(f\"{random_do_stg_name},{random_re_stg_name},{random_norm_no},{str(res[0, 0])}:{str(res[0, 1])}\\n\")\n",
    "ouput_file.close()"
   ]
  },
  {
   "cell_type": "code",
   "execution_count": null,
   "metadata": {},
   "outputs": [],
   "source": [
    "# generate the payoff matrix config file under specific social norm\n",
    "# we define the file format in the ./payoffMatrix/README.md"
   ]
  },
  {
   "cell_type": "code",
   "execution_count": 251,
   "metadata": {},
   "outputs": [
    {
     "ename": "NameError",
     "evalue": "name 'temp_f' is not defined",
     "output_type": "error",
     "traceback": [
      "\u001b[0;31m---------------------------------------------------------------------------\u001b[0m",
      "\u001b[0;31mNameError\u001b[0m                                 Traceback (most recent call last)",
      "\u001b[1;32m/home/shiwenbo/git/reputation_effects/formula/game.ipynb Cell 34\u001b[0m line \u001b[0;36m2\n\u001b[1;32m      <a href='vscode-notebook-cell://wsl%2Bubuntu/home/shiwenbo/git/reputation_effects/formula/game.ipynb#X24sdnNjb2RlLXJlbW90ZQ%3D%3D?line=0'>1</a>\u001b[0m \u001b[39m# C-NR Do\u001b[39;00m\n\u001b[0;32m----> <a href='vscode-notebook-cell://wsl%2Bubuntu/home/shiwenbo/git/reputation_effects/formula/game.ipynb#X24sdnNjb2RlLXJlbW90ZQ%3D%3D?line=1'>2</a>\u001b[0m gcd, temp \u001b[39m=\u001b[39m temp_f({\u001b[39m'\u001b[39m\u001b[39mT00\u001b[39m\u001b[39m'\u001b[39m: p_v, \u001b[39m'\u001b[39m\u001b[39mT01\u001b[39m\u001b[39m'\u001b[39m: p, \u001b[39m'\u001b[39m\u001b[39mT10\u001b[39m\u001b[39m'\u001b[39m: p_v \u001b[39m+\u001b[39m \u001b[39m1\u001b[39m \u001b[39m/\u001b[39m N, \u001b[39m'\u001b[39m\u001b[39mT11\u001b[39m\u001b[39m'\u001b[39m: p \u001b[39m-\u001b[39m \u001b[39m1\u001b[39m \u001b[39m/\u001b[39m N}, {\u001b[39m'\u001b[39m\u001b[39mR0\u001b[39m\u001b[39m'\u001b[39m: \u001b[39m-\u001b[39m c, \u001b[39m'\u001b[39m\u001b[39mR1\u001b[39m\u001b[39m'\u001b[39m: \u001b[39m-\u001b[39mc})\n\u001b[1;32m      <a href='vscode-notebook-cell://wsl%2Bubuntu/home/shiwenbo/git/reputation_effects/formula/game.ipynb#X24sdnNjb2RlLXJlbW90ZQ%3D%3D?line=2'>3</a>\u001b[0m res \u001b[39m=\u001b[39m gcd \u001b[39m*\u001b[39m temp\n\u001b[1;32m      <a href='vscode-notebook-cell://wsl%2Bubuntu/home/shiwenbo/git/reputation_effects/formula/game.ipynb#X24sdnNjb2RlLXJlbW90ZQ%3D%3D?line=3'>4</a>\u001b[0m res \u001b[39m=\u001b[39m sympy\u001b[39m.\u001b[39msimplify(res)\n",
      "\u001b[0;31mNameError\u001b[0m: name 'temp_f' is not defined"
     ]
    }
   ],
   "source": [
    "# C-NR Do\n",
    "gcd, temp = temp_f({'T00': p_v, 'T01': p, 'T10': p_v + 1 / N, 'T11': p - 1 / N}, {'R0': - c, 'R1': -c})\n",
    "res = gcd * temp\n",
    "res = sympy.simplify(res)\n",
    "res"
   ]
  },
  {
   "cell_type": "code",
   "execution_count": null,
   "metadata": {},
   "outputs": [
    {
     "data": {
      "image/png": "[encoded data removed]",
      "text/latex": [
       "$\\displaystyle \\left[\\begin{matrix}b\\\\b\\end{matrix}\\right]$"
      ],
      "text/plain": [
       "⎡b⎤\n",
       "⎢ ⎥\n",
       "⎣b⎦"
      ]
     },
     "execution_count": 37,
     "metadata": {},
     "output_type": "execute_result"
    }
   ],
   "source": [
    "# C-NR Re\n",
    "gcd, temp = temp_f({'T00': p_v, 'T01': p, 'T10': p_v + 1 / N, 'T11': p - 1 / N}, {'R0': b, 'R1': b})\n",
    "res = gcd * temp\n",
    "res = sympy.simplify(res)\n",
    "res"
   ]
  },
  {
   "cell_type": "code",
   "execution_count": null,
   "metadata": {},
   "outputs": [
    {
     "data": {
      "image/png": "[encoded data removed]",
      "text/latex": [
       "$\\displaystyle \\left[\\begin{matrix}\\beta - c\\\\\\beta - c\\end{matrix}\\right]$"
      ],
      "text/plain": [
       "⎡\\beta - c⎤\n",
       "⎢         ⎥\n",
       "⎣\\beta - c⎦"
      ]
     },
     "execution_count": 39,
     "metadata": {},
     "output_type": "execute_result"
    }
   ],
   "source": [
    "# C-SR Do \n",
    "gcd, temp = temp_f({'T00': p_v - 1/N, 'T01': p + 1/ N, 'T10': p_v, 'T11': p }, {'R0': beta - c, 'R1': beta - c})\n",
    "res = gcd * temp\n",
    "res = sympy.simplify(res)\n",
    "res"
   ]
  },
  {
   "cell_type": "code",
   "execution_count": null,
   "metadata": {},
   "outputs": [
    {
     "data": {
      "image/png": "[encoded data removed]",
      "text/latex": [
       "$\\displaystyle \\left( 1, \\  \\left[\\begin{matrix}\\gamma' p \\left(- \\gamma + b\\right)\\\\\\left(\\gamma - b\\right) \\left(- \\gamma' \\left(p - 1\\right) - 1\\right)\\end{matrix}\\right]\\right)$"
      ],
      "text/plain": [
       "⎛   ⎡      \\gamma'⋅p⋅(-\\gamma + b)      ⎤⎞\n",
       "⎜1, ⎢                                   ⎥⎟\n",
       "⎝   ⎣(\\gamma - b)⋅(-\\gamma'⋅(p - 1) - 1)⎦⎠"
      ]
     },
     "execution_count": 42,
     "metadata": {},
     "output_type": "execute_result"
    }
   ],
   "source": [
    "# DISC-SR Do\n",
    "gcd, temp = temp_f({'T00': p_v, 'T01': p, 'T10': p_v, 'T11': p }, {'R0': 0, 'R1': b - gamma})\n",
    "gcd, temp\n",
    "\n",
    "# res = gcd * temp\n",
    "# res = sympy.simplify(res)\n",
    "# res"
   ]
  },
  {
   "cell_type": "code",
   "execution_count": null,
   "metadata": {},
   "outputs": [
    {
     "data": {
      "image/png": "[encoded data removed]",
      "text/latex": [
       "$\\displaystyle \\left[\\begin{matrix}\\frac{- \\gamma \\left(N - \\gamma' \\left(N p - 1\\right)\\right) + \\gamma' b \\left(N p + 1\\right)}{N + 2 \\gamma'}\\\\\\frac{- \\gamma \\gamma' \\left(- N \\left(p - 1\\right) + 1\\right) + b \\left(N + \\gamma' \\left(N \\left(p - 1\\right) + 1\\right)\\right)}{N + 2 \\gamma'}\\end{matrix}\\right]$"
      ],
      "text/plain": [
       "⎡      -\\gamma⋅(N - \\gamma'⋅(N⋅p - 1)) + \\gamma'⋅b⋅(N⋅p + 1)       ⎤\n",
       "⎢      ─────────────────────────────────────────────────────       ⎥\n",
       "⎢                          N + 2⋅\\gamma'                           ⎥\n",
       "⎢                                                                  ⎥\n",
       "⎢-\\gamma⋅\\gamma'⋅(-N⋅(p - 1) + 1) + b⋅(N + \\gamma'⋅(N⋅(p - 1) + 1))⎥\n",
       "⎢──────────────────────────────────────────────────────────────────⎥\n",
       "⎣                          N + 2⋅\\gamma'                           ⎦"
      ]
     },
     "execution_count": 53,
     "metadata": {},
     "output_type": "execute_result"
    }
   ],
   "source": [
    "# DISC-UR Do\n",
    "gcd, temp = temp_f({'T00': p_v - 1/N, 'T01': p + 1/ N, 'T10': p_v + 1/N, 'T11': p - 1/ N }, {'R0':-gamma, 'R1': b})\n",
    "gcd, temp\n",
    "res = gcd * temp\n",
    "res = sympy.simplify(res)\n",
    "res"
   ]
  },
  {
   "cell_type": "code",
   "execution_count": null,
   "metadata": {},
   "outputs": [
    {
     "data": {
      "image/png": "[encoded data removed]",
      "text/latex": [
       "$\\displaystyle - 0.5 \\gamma + 0.5 b$"
      ],
      "text/plain": [
       "-0.5⋅\\gamma + 0.5⋅b"
      ]
     },
     "execution_count": 59,
     "metadata": {},
     "output_type": "execute_result"
    }
   ],
   "source": [
    "res = res.subs({p:0.5})\n",
    "res = sympy.simplify(res)\n",
    "temp2 = 0.5 * res[0] + 0.5 * res[1]\n",
    "temp2 = sympy.simplify(temp2)\n",
    "temp2"
   ]
  },
  {
   "cell_type": "code",
   "execution_count": null,
   "metadata": {},
   "outputs": [
    {
     "data": {
      "image/png": "[encoded data removed]",
      "text/latex": [
       "$\\displaystyle - \\frac{\\left(p - 1\\right) \\left(\\beta \\left(N - \\gamma' \\left(N p - 1\\right)\\right) - \\gamma' c \\left(N p + 1\\right)\\right)}{N + 2 \\gamma'}$"
      ],
      "text/plain": [
       "-(p - 1)⋅(\\beta⋅(N - \\gamma'⋅(N⋅p - 1)) - \\gamma'⋅c⋅(N⋅p + 1)) \n",
       "───────────────────────────────────────────────────────────────\n",
       "                         N + 2⋅\\gamma'                         "
      ]
     },
     "execution_count": 45,
     "metadata": {},
     "output_type": "execute_result"
    }
   ],
   "source": [
    "temp2 = res[0] * p_v\n",
    "temp2 = sympy.simplify(temp2)\n",
    "temp2"
   ]
  },
  {
   "cell_type": "code",
   "execution_count": null,
   "metadata": {},
   "outputs": [
    {
     "data": {
      "image/png": "[encoded data removed]",
      "text/latex": [
       "$\\displaystyle \\left( 1, \\  \\left[\\begin{matrix}-c\\\\-c\\end{matrix}\\right]\\right)$"
      ],
      "text/plain": [
       "⎛   ⎡-c⎤⎞\n",
       "⎜1, ⎢  ⎥⎟\n",
       "⎝   ⎣-c⎦⎠"
      ]
     },
     "execution_count": 16,
     "metadata": {},
     "output_type": "execute_result"
    }
   ],
   "source": [
    "# Do\n",
    "temp_f({'T00': 1, 'T01': 0, 'T10': 1, 'T11': 0}, {'R0': sympy.Symbol(r'-c'), 'R1': sympy.Symbol(r'-c')})"
   ]
  },
  {
   "cell_type": "code",
   "execution_count": null,
   "metadata": {},
   "outputs": [
    {
     "data": {
      "image/png": "[encoded data removed]",
      "text/latex": [
       "$\\displaystyle \\left( 1, \\  \\left[\\begin{matrix}b\\\\\\gamma' b + b \\left(1 - \\gamma'\\right)\\end{matrix}\\right]\\right)$"
      ],
      "text/plain": [
       "⎛   ⎡             b             ⎤⎞\n",
       "⎜1, ⎢                           ⎥⎟\n",
       "⎝   ⎣\\gamma'⋅b + b⋅(1 - \\gamma')⎦⎠"
      ]
     },
     "execution_count": 18,
     "metadata": {},
     "output_type": "execute_result"
    }
   ],
   "source": [
    "# Re\n",
    "temp_f({'T00': 1, 'T01': 0, 'T10': 1, 'T11': 0}, {'R0': sympy.Symbol(r'b'), 'R1': sympy.Symbol(r'b')})"
   ]
  },
  {
   "cell_type": "code",
   "execution_count": null,
   "metadata": {},
   "outputs": [
    {
     "data": {
      "image/png": "[encoded data removed]",
      "text/latex": [
       "$\\displaystyle \\left( 1, \\  \\left[\\begin{matrix}\\beta - c\\\\\\beta - c\\end{matrix}\\right]\\right)$"
      ],
      "text/plain": [
       "⎛   ⎡\\beta - c⎤⎞\n",
       "⎜1, ⎢         ⎥⎟\n",
       "⎝   ⎣\\beta - c⎦⎠"
      ]
     },
     "execution_count": 17,
     "metadata": {},
     "output_type": "execute_result"
    }
   ],
   "source": [
    "# Do\n",
    "temp_f({'T00': 0, 'T01': 1, 'T10': 0, 'T11': 1}, {'R0': sympy.Symbol(r'\\beta') - sympy.Symbol(r'c'), 'R1': sympy.Symbol(r'\\beta') - sympy.Symbol(r'c')})"
   ]
  },
  {
   "cell_type": "code",
   "execution_count": null,
   "metadata": {},
   "outputs": [
    {
     "data": {
      "image/png": "[encoded data removed]",
      "text/latex": [
       "$\\displaystyle \\left( 1, \\  \\left[\\begin{matrix}- \\gamma - \\gamma' b + b\\\\- \\gamma\\end{matrix}\\right]\\right)$"
      ],
      "text/plain": [
       "⎛   ⎡-\\gamma - \\gamma'⋅b + b⎤⎞\n",
       "⎜1, ⎢                       ⎥⎟\n",
       "⎝   ⎣        -\\gamma        ⎦⎠"
      ]
     },
     "execution_count": 50,
     "metadata": {},
     "output_type": "execute_result"
    }
   ],
   "source": [
    "temp_f({'T00': 0, 'T01': 1, 'T10': 0, 'T11': 1}, {'R0': sympy.Symbol(r'b') - sympy.Symbol(r'\\gamma'), 'R1': -sympy.Symbol(r'\\gamma')})"
   ]
  },
  {
   "cell_type": "code",
   "execution_count": null,
   "metadata": {},
   "outputs": [
    {
     "data": {
      "image/png": "[encoded data removed]",
      "text/latex": [
       "$\\displaystyle \\left( 1, \\  \\left[\\begin{matrix}b\\\\\\gamma' b\\end{matrix}\\right]\\right)$"
      ],
      "text/plain": [
       "⎛   ⎡    b    ⎤⎞\n",
       "⎜1, ⎢         ⎥⎟\n",
       "⎝   ⎣\\gamma'⋅b⎦⎠"
      ]
     },
     "execution_count": 46,
     "metadata": {},
     "output_type": "execute_result"
    }
   ],
   "source": [
    "# DISC-NR\n",
    "temp_f({'T00': 1, 'T01': 0, 'T10': 1, 'T11': 0}, {'R0': sympy.Symbol(r'b'), 'R1':0 })"
   ]
  },
  {
   "cell_type": "code",
   "execution_count": null,
   "metadata": {},
   "outputs": [
    {
     "data": {
      "image/png": "[encoded data removed]",
      "text/latex": [
       "$\\displaystyle \\left( - \\frac{1}{\\gamma' - 1}, \\  \\left[\\begin{matrix}b \\left(1 - \\gamma'\\right)\\\\\\gamma \\left(\\gamma' - 1\\right)\\end{matrix}\\right]\\right)$"
      ],
      "text/plain": [
       "⎛    -1       ⎡  b⋅(1 - \\gamma')   ⎤⎞\n",
       "⎜───────────, ⎢                    ⎥⎟\n",
       "⎝\\gamma' - 1  ⎣\\gamma⋅(\\gamma' - 1)⎦⎠"
      ]
     },
     "execution_count": 48,
     "metadata": {},
     "output_type": "execute_result"
    }
   ],
   "source": [
    "# DISC-SR\n",
    "temp_f({'T00': 1, 'T01': 0, 'T10': 0, 'T11': 1}, {'R0': sympy.Symbol(r'b') , 'R1': -sympy.Symbol(r'\\gamma')})"
   ]
  },
  {
   "cell_type": "code",
   "execution_count": null,
   "metadata": {},
   "outputs": [
    {
     "data": {
      "image/png": "[encoded data removed]",
      "text/latex": [
       "$\\displaystyle \\left( \\frac{1}{(1-q_{c}/N) (1-q_{r}) \\gamma'^{2} - (1-q_{c}/N) \\gamma' - (1-q_{r}) \\gamma' - (q_{c}/N) \\gamma'^{2} q_{r} + 1}, \\  \\left[\\begin{matrix}\\gamma' q_{c}/N * m + (1-q_{c}/N) * fc * (N -1)/N q_{r} + m \\left(- (1-q_{c}/N) \\gamma' + 1\\right)\\\\(q_{c}/N) \\gamma' m + q_{c}/N * m + (1-q_{c}/N) * fc * (N -1)/N \\left(- (1-q_{r}) \\gamma' + 1\\right)\\end{matrix}\\right]\\right)$"
      ],
      "text/plain": [
       "⎛                                                   1                         \n",
       "⎜─────────────────────────────────────────────────────────────────────────────\n",
       "⎜                             2                                               \n",
       "⎝(1-q_{c}/N)⋅(1-q_{r})⋅\\gamma'  - (1-q_{c}/N)⋅\\gamma' - (1-q_{r})⋅\\gamma' - (q\n",
       "\n",
       "                            ⎡ \\gamma'⋅q_{c}/N * m + (1-q_{c}/N) * fc * (N -1)/\n",
       "──────────────────────────, ⎢                                                 \n",
       "               2            ⎣(q_{c}/N)⋅\\gamma'⋅m + q_{c}/N * m + (1-q_{c}/N) *\n",
       "_{c}/N)⋅\\gamma' ⋅q_{r} + 1                                                    \n",
       "\n",
       "N⋅q_{r} + m⋅(-(1-q_{c}/N)⋅\\gamma' + 1) ⎤⎞\n",
       "                                       ⎥⎟\n",
       " fc * (N -1)/N⋅(-(1-q_{r})⋅\\gamma' + 1)⎦⎟\n",
       "                                        ⎠"
      ]
     },
     "execution_count": 12,
     "metadata": {},
     "output_type": "execute_result"
    }
   ],
   "source": [
    "temp_f({'T00': sympy.Symbol(r\"(1-q_{r})\"), 'T01': sympy.Symbol(r\"q_{r}\"), 'T10': sympy.Symbol(r\"(q_{c}/N)\"), 'T11': sympy.Symbol(r\"(1-q_{c}/N)\")}, {'R0': sympy.Symbol(r'm'), 'R1': sympy.Symbol(r'q_{c}/N * m + (1-q_{c}/N) * fc * (N -1)/N')})"
   ]
  },
  {
   "cell_type": "code",
   "execution_count": null,
   "metadata": {},
   "outputs": [
    {
     "data": {
      "image/png": "[encoded data removed]",
      "text/latex": [
       "$\\displaystyle \\left( \\frac{1}{1 - q_{r} \\gamma'^{2} - 1 - q_{r} \\gamma' - \\gamma' + 1}, \\  \\left[\\begin{matrix}(fc-c) \\gamma' q_{r} + m \\left(1 - \\gamma'\\right)\\\\(fc-c) \\left(- 1 - q_{r} \\gamma' + 1\\right)\\end{matrix}\\right]\\right)$"
      ],
      "text/plain": [
       "⎛                         1                            ⎡(fc-c)⋅\\gamma'⋅q_{r} +\n",
       "⎜────────────────────────────────────────────────────, ⎢                      \n",
       "⎜                 2                                    ⎣   (fc-c)⋅(-1 - q_{r}⋅\n",
       "⎝1 - q_{r}⋅\\gamma'  - 1 - q_{r}⋅\\gamma' - \\gamma' + 1                         \n",
       "\n",
       " m⋅(1 - \\gamma')⎤⎞\n",
       "                ⎥⎟\n",
       "\\gamma' + 1)    ⎦⎟\n",
       "                 ⎠"
      ]
     },
     "execution_count": 19,
     "metadata": {},
     "output_type": "execute_result"
    }
   ],
   "source": [
    "temp_f({'T00': sympy.Symbol(r\"1 - q_{r}\"), 'T01': sympy.Symbol(r\"q_{r}\"), 'T10': 0, 'T11': 1}, {'R0': sympy.Symbol(r'm'), 'R1': sympy.Symbol(r'(fc-c)')})\n",
    "# print((t1 * t2).simplify())\n"
   ]
  },
  {
   "cell_type": "code",
   "execution_count": null,
   "metadata": {},
   "outputs": [
    {
     "data": {
      "text/latex": [
       "$\\displaystyle \\left[\\begin{matrix}\\beta - c & -c\\\\\\beta & 0\\end{matrix}\\right]$"
      ],
      "text/plain": [
       "Matrix([\n",
       "[\\beta - c, -c],\n",
       "[    \\beta,  0]])"
      ]
     },
     "execution_count": 2,
     "metadata": {},
     "output_type": "execute_result"
    }
   ],
   "source": [
    "\n",
    "\n",
    "# def temp_f(tdict = {'T00': 0, 'T01': 1, 'T10': 0, 'T11': 1}, reward: Reward, role: Literal['donor', 'recipient']):\n",
    "#     # rdict = {'R0': sympy.Symbol(r'\\beta') - sympy.Symbol(r'c'), 'R1': sympy.Symbol(r'\\beta') - sympy.Symbol(r'c')}\n",
    "\n",
    "\n",
    "#     R = sympy.Matrix([[sympy.Symbol('R0')], [sympy.Symbol('R1')]])\n",
    "#     E = sympy.eye(2)\n",
    "    \n",
    "#     # T = (T00, T01\n",
    "#     #     T10, T11)\n",
    "#     T = sympy.Matrix([[sympy.Symbol('T00'), sympy.Symbol('T01')],\n",
    "#                       [sympy.Symbol('T10'), sympy.Symbol('T11')]])\n",
    "    \n",
    "#     gamma_0 = sympy.Symbol(\"\\gamma'\")\n",
    "    \n",
    "#     temp_mat = E - gamma_0 * T\n",
    "#     # 对 temp_mat 求逆\n",
    "#     temp_mat = temp_mat.inv()\n",
    "#     # 用 latex 输出\n",
    "#     # 在jupyter notebook中输出\n",
    "    \n",
    "#     # 提取公因子化简temp_mat\n",
    "#     gcd = sympy.gcd(temp_mat[0, 0], temp_mat[0, 1])\n",
    "#     temp_mat = temp_mat / gcd\n",
    "#     gcd_value = (gcd * (1 - gamma_0)).subs(tdict)\n",
    "#     gcd_value = sympy.simplify(gcd_value)\n",
    "#     temp_value = (temp_mat * R).subs({**tdict, **rdict})\n",
    "#     temp_value = sympy.simplify(temp_value)\n",
    "#     return gcd_value, temp_value\n",
    "\n",
    "# sympy.init_printing()\n",
    "# temp_f()"
   ]
  }
 ],
 "metadata": {
  "kernelspec": {
   "display_name": "ipynb",
   "language": "python",
   "name": "python3"
  },
  "language_info": {
   "codemirror_mode": {
    "name": "ipython",
    "version": 3
   },
   "file_extension": ".py",
   "mimetype": "text/x-python",
   "name": "python",
   "nbconvert_exporter": "python",
   "pygments_lexer": "ipython3",
   "version": "3.11.0"
  }
 },
 "nbformat": 4,
 "nbformat_minor": 2
}
