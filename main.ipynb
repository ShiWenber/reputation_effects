{
 "cells": [
  {
   "cell_type": "code",
   "execution_count": 14,
   "metadata": {
    "vscode": {
     "languageId": "cpp"
    }
   },
   "outputs": [
    {
     "name": "stderr",
     "output_type": "stream",
     "text": [
      "input_line_34:18:70: error: function definition is not allowed here\n",
      "std::vector<std::string> split(const std::string& s, char delimiter) {\n",
      "                                                                     ^\n",
      "input_line_34:28:30: error: type 'std::vector<std::string>' (aka 'vector<basic_string<char> >') does not provide a subscript operator\n",
      "string temp =  split(s2, ' ')[0]\n",
      "               ~~~~~~~~~~~~~~^~\n"
     ]
    },
    {
     "ename": "Interpreter Error",
     "evalue": "",
     "output_type": "error",
     "traceback": [
      "Interpreter Error: "
     ]
    }
   ],
   "source": [
    "#include <iostream>\n",
    "#include <string>\n",
    "#include <vector>\n",
    "#include <sstream>\n",
    "// #pragma cling add_include_path(\"/home/shiwenbo/git/vcpkg/packages/dataframe_x64-linux/include\")\n",
    "// #pragma cling add_library_path(\"/home/shiwenbo/git/vcpkg/packages/dataframe_x64-linux/lib\")\n",
    "// #pragma cling load(\"DataFrame/DataFrame.h\")                   // Main DataFrame header\n",
    "// #pragma cling load(\"DataFrame/DataFrameFinancialVisitors.h\")  // Financial algorithms\n",
    "// #pragma cling load(\"DataFrame/DataFrameMLVisitors.h\")         // Machine-learning algorithms\n",
    "// #pragma cling load(\"DataFrame/DataFrameStatsVisitors.h\")      // Statistical algorithms\n",
    "// #pragma cling load(\"DataFrame/Utils/DateTime.h\")              // Cool and handy date-time object\n",
    "\n",
    "// 导入 symengine\n",
    "// #pragma cling add_include_path(\"/home/shiwenbo/git/vcpkg/packages/symengine_x64-linux/include\")\n",
    "// #pragma cling add_library_path(\"/home/shiwenbo/git/vcpkg/packages/symengine_x64-linux/lib\")\n",
    "// #pragma cling load(\"symengine\")\n",
    "\n",
    "using namespace std;\n",
    "\n",
    "int a = 10;\n",
    "\n",
    "string s = \"Hello cling\";\n",
    "string s2 = \"Hellocling\";\n",
    "\n",
    "std::vector<std::string> split(const std::string& s, char delimiter);\n",
    "\n",
    "std::vector<std::string> split(const std::string& s, char delimiter) {\n",
    "    std::vector<std::string> tokens;\n",
    "    std::string token;\n",
    "    std::istringstream tokenStream(s);\n",
    "    while (std::getline(tokenStream, token, delimiter)) {\n",
    "        tokens.push_back(token);\n",
    "    }\n",
    "    return tokens;\n",
    "}\n",
    "\n",
    "bool b = (s == \"Hello clg\");\n",
    "\n",
    "string temp =  split(s2, ' ')[0]\n",
    "\n",
    "cout << temp << endl;\n"
   ]
  }
 ],
 "metadata": {
  "kernelspec": {
   "display_name": "C++17",
   "language": "C++17",
   "name": "xcpp17"
  },
  "language_info": {
   "codemirror_mode": "text/x-c++src",
   "file_extension": ".cpp",
   "mimetype": "text/x-c++src",
   "name": "C++17",
   "version": "17"
  },
  "orig_nbformat": 4
 },
 "nbformat": 4,
 "nbformat_minor": 2
}
