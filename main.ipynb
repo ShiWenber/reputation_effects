{
 "cells": [
  {
   "cell_type": "code",
   "execution_count": 2,
   "metadata": {
    "vscode": {
     "languageId": "cpp"
    }
   },
   "outputs": [
    {
     "name": "stdout",
     "output_type": "stream",
     "text": [
      "Hello world\n"
     ]
    }
   ],
   "source": [
    "#include <iostream>\n",
    "// #pragma cling add_include_path(\"/home/shiwenbo/git/vcpkg/packages/dataframe_x64-linux/include\")\n",
    "// #pragma cling add_library_path(\"/home/shiwenbo/git/vcpkg/packages/dataframe_x64-linux/lib\")\n",
    "// #pragma cling load(\"DataFrame/DataFrame.h\")                   // Main DataFrame header\n",
    "// #pragma cling load(\"DataFrame/DataFrameFinancialVisitors.h\")  // Financial algorithms\n",
    "// #pragma cling load(\"DataFrame/DataFrameMLVisitors.h\")         // Machine-learning algorithms\n",
    "// #pragma cling load(\"DataFrame/DataFrameStatsVisitors.h\")      // Statistical algorithms\n",
    "// #pragma cling load(\"DataFrame/Utils/DateTime.h\")              // Cool and handy date-time object\n",
    "\n",
    "// 导入 symengine\n",
    "#pragma cling add_include_path(\"/home/shiwenbo/git/vcpkg/packages/symengine_x64-linux/include\")\n",
    "#pragma cling add_library_path(\"/home/shiwenbo/git/vcpkg/packages/symengine_x64-linux/lib\")\n",
    "#pragma cling load(\"symengine\")\n",
    "\n",
    "using namespace std;\n",
    "\n",
    "int a = 10;\n",
    "\n",
    "cout << \"Hello world\" << endl;"
   ]
  },
  {
   "cell_type": "code",
   "execution_count": 5,
   "metadata": {
    "vscode": {
     "languageId": "cpp"
    }
   },
   "outputs": [
    {
     "ename": "Standard Exception",
     "evalue": "DataFrame::read_csv2_(): ERROR: Expected '<' char to specify column type",
     "output_type": "error",
     "traceback": [
      "Standard Exception: DataFrame::read_csv2_(): ERROR: Expected '<' char to specify column type"
     ]
    }
   ],
   "source": [
    "// 用dataframe读取csv文件\n",
    "\n",
    "using namespace hmdf;\n",
    "\n",
    "using StrDataFrame = StdDataFrame<string>;\n",
    "\n",
    "StrDataFrame df;\n",
    "\n",
    "df.read(\"./BPayoffMatrix.csv\", io_format::csv2);"
   ]
  },
  {
   "cell_type": "code",
   "execution_count": 2,
   "metadata": {
    "vscode": {
     "languageId": "python"
    }
   },
   "outputs": [
    {
     "data": {
      "text/plain": [
       "5"
      ]
     },
     "execution_count": 2,
     "metadata": {},
     "output_type": "execute_result"
    }
   ],
   "source": []
  },
  {
   "cell_type": "code",
   "execution_count": 10,
   "metadata": {
    "vscode": {
     "languageId": "python"
    }
   },
   "outputs": [
    {
     "data": {
      "text/plain": [
       "5"
      ]
     },
     "execution_count": 10,
     "metadata": {},
     "output_type": "execute_result"
    }
   ],
   "source": []
  }
 ],
 "metadata": {
  "kernelspec": {
   "display_name": "C++17",
   "language": "C++17",
   "name": "xcpp17"
  },
  "language_info": {
   "codemirror_mode": "text/x-c++src",
   "file_extension": ".cpp",
   "mimetype": "text/x-c++src",
   "name": "c++",
   "version": "17"
  },
  "orig_nbformat": 4
 },
 "nbformat": 4,
 "nbformat_minor": 2
}
